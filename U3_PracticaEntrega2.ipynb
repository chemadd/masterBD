{
 "cells": [
  {
   "cell_type": "markdown",
   "metadata": {},
   "source": [
    "Crea un conjunto de datos utilizando el siguiente código:\n",
    "\n",
    "trX = np.linspace(-1, 1, 101)\n",
    "\n",
    "trY = np.linspace(-1, 1, 101)\n",
    "\n",
    "for i in range(len(trY)):\n",
    "\n",
    "trY[i] = math.log(1 + 0.5 * abs(trX[i])) + trX[i] / 3 + np.random.randn() * 0.033\n",
    "\n",
    "Ahora, utiliza Theano para obtener los parámetros w_0 y w_1 del siguiente modelo:\n",
    "\n",
    "y%3Dlog(1%26plus%3Bw_%7Bo%7D%20%5Cleft%20%7Cx%20%5Cright%20%7C%20)%26plus%3Bw_%7B1%7D%20x&size=12\n",
    "\n",
    "utilizando los datos generados anteriormente."
   ]
  },
  {
   "cell_type": "code",
   "execution_count": 1,
   "metadata": {},
   "outputs": [
    {
     "name": "stdout",
     "output_type": "stream",
     "text": [
      "Using matplotlib backend: Qt5Agg\n",
      "Populating the interactive namespace from numpy and matplotlib\n"
     ]
    }
   ],
   "source": [
    "# Preparamos el entorno\n",
    "%pylab\n",
    "%matplotlib inline\n",
    "%config InlineBackend.figure_format = 'retina'\n",
    "# %config blas.ldflags=-lblas\n",
    "\n",
    "# importamos las librerias\n",
    "import pandas as pd  # Python Data Analysis Library\n",
    "import numpy as np"
   ]
  },
  {
   "cell_type": "code",
   "execution_count": 2,
   "metadata": {},
   "outputs": [
    {
     "name": "stdout",
     "output_type": "stream",
     "text": [
      "[-1.   -0.98 -0.96 -0.94 -0.92 -0.9  -0.88 -0.86 -0.84 -0.82 -0.8  -0.78\n",
      " -0.76 -0.74 -0.72 -0.7  -0.68 -0.66 -0.64 -0.62 -0.6  -0.58 -0.56 -0.54\n",
      " -0.52 -0.5  -0.48 -0.46 -0.44 -0.42 -0.4  -0.38 -0.36 -0.34 -0.32 -0.3\n",
      " -0.28 -0.26 -0.24 -0.22 -0.2  -0.18 -0.16 -0.14 -0.12 -0.1  -0.08 -0.06\n",
      " -0.04 -0.02  0.    0.02  0.04  0.06  0.08  0.1   0.12  0.14  0.16  0.18\n",
      "  0.2   0.22  0.24  0.26  0.28  0.3   0.32  0.34  0.36  0.38  0.4   0.42\n",
      "  0.44  0.46  0.48  0.5   0.52  0.54  0.56  0.58  0.6   0.62  0.64  0.66\n",
      "  0.68  0.7   0.72  0.74  0.76  0.78  0.8   0.82  0.84  0.86  0.88  0.9\n",
      "  0.92  0.94  0.96  0.98  1.  ]\n",
      "[ 0.08641407  0.09930148  0.10047471  0.09718824  0.06289314  0.09446249\n",
      "  0.14587342 -0.01345221  0.06207404  0.07215883  0.03534553 -0.00998212\n",
      "  0.06342833  0.10715211  0.04142672 -0.00262609  0.08866451  0.05915722\n",
      "  0.03837796  0.12128717  0.06036742  0.08884591  0.05201165  0.06675404\n",
      "  0.05895828  0.01829594  0.01857822 -0.00888494  0.02982478  0.06278542\n",
      "  0.07087644  0.06106133  0.08020384  0.06072115  0.04013966  0.05246477\n",
      "  0.01945763  0.11793926  0.0429542   0.07081613  0.00901376  0.02898755\n",
      "  0.03674065  0.00509297  0.04809447  0.00737701  0.04931345 -0.0008295\n",
      " -0.02415176  0.00788982  0.0749261  -0.02898163  0.05109571  0.0400869\n",
      "  0.06159681  0.08735875  0.1431325   0.12838683  0.10388591  0.13557635\n",
      "  0.11932994  0.17970017  0.13701098  0.23020824  0.24316111  0.2483223\n",
      "  0.2098984   0.22025475  0.33587793  0.33181776  0.33909813  0.32561687\n",
      "  0.34177124  0.37235534  0.35540046  0.34921024  0.39195925  0.4568352\n",
      "  0.40490456  0.41881221  0.42212992  0.47903047  0.44666768  0.49678124\n",
      "  0.49831006  0.58990349  0.59122991  0.60808342  0.57617517  0.57705665\n",
      "  0.6217855   0.58702847  0.6172753   0.58392333  0.65078551  0.64162409\n",
      "  0.70008809  0.74105127  0.70584345  0.70812506  0.74380793]\n"
     ]
    }
   ],
   "source": [
    "# Definimos las matrices de valores\n",
    "trX = np.linspace(-1, 1, 101)\n",
    "trY = np.linspace(-1, 1, 101)\n",
    "\n",
    "for i in range(len(trY)):\n",
    "    trY[i] = math.log(1 + 0.5*abs(trX[i])) + trX[i] / 3 + np.random.randn()*0.033\n",
    "    \n",
    "print (trX)\n",
    "print (trY)"
   ]
  },
  {
   "cell_type": "code",
   "execution_count": 38,
   "metadata": {},
   "outputs": [
    {
     "name": "stdout",
     "output_type": "stream",
     "text": [
      "En el paso 0 el valor de los parametros es w0: 0.1995907637039501 w1: 0.1682439159596061\n",
      "En el paso 1 el valor de los parametros es w0: 0.3049823971642476 w1: 0.2539618604398829\n",
      "En el paso 2 el valor de los parametros es w0: 0.3690308798798897 w1: 0.29595970604138927\n",
      "En el paso 3 el valor de los parametros es w0: 0.410275293590915 w1: 0.31603944633098685\n",
      "En el paso 4 el valor de los parametros es w0: 0.4376138837262407 w1: 0.325368935706467\n",
      "En el paso 5 el valor de los parametros es w0: 0.4560255550432625 w1: 0.3295221649936354\n",
      "En el paso 6 el valor de los parametros es w0: 0.46854089388503195 w1: 0.3312391051611987\n",
      "En el paso 7 el valor de los parametros es w0: 0.47709629078025423 w1: 0.33184708386032535\n",
      "En el paso 8 el valor de los parametros es w0: 0.48296528026943913 w1: 0.3319773744530532\n",
      "En el paso 9 el valor de los parametros es w0: 0.487000375217017 w1: 0.3319223247664187\n",
      "En el paso 10 el valor de los parametros es w0: 0.4897785797172368 w1: 0.33181171830259465\n",
      "En el paso 11 el valor de los parametros es w0: 0.4916931648132361 w1: 0.33169902063051054\n",
      "En el paso 12 el valor de los parametros es w0: 0.4930133777495422 w1: 0.33160303549296827\n",
      "En el paso 13 el valor de los parametros es w0: 0.4939240893077521 w1: 0.3315276754105351\n",
      "En el paso 14 el valor de los parametros es w0: 0.49455247453543977 w1: 0.3314711010923233\n",
      "En el paso 15 el valor de los parametros es w0: 0.49498612593705954 w1: 0.3314297703369265\n",
      "En el paso 16 el valor de los parametros es w0: 0.49528542138843834 w1: 0.3314001007006608\n",
      "En el paso 17 el valor de los parametros es w0: 0.49549200114951863 w1: 0.33137905019897906\n",
      "En el paso 18 el valor de los parametros es w0: 0.49563459250396513 w1: 0.3313642342868053\n",
      "En el paso 19 el valor de los parametros es w0: 0.4957330184562471 w1: 0.33135386452595805\n"
     ]
    },
    {
     "data": {
      "text/plain": [
       "[<matplotlib.lines.Line2D at 0x7fb06259c2e8>]"
      ]
     },
     "execution_count": 38,
     "metadata": {},
     "output_type": "execute_result"
    },
    {
     "data": {
      "image/png": "[encoded data removed]",
      "text/plain": [
       "<matplotlib.figure.Figure at 0x7fb0626a45c0>"
      ]
     },
     "metadata": {
      "image/png": {
       "height": 250,
       "width": 386
      }
     },
     "output_type": "display_data"
    }
   ],
   "source": [
    "# Estimamos los parametros del modelo y = log(1+w0*abs(x)) + w1*x\n",
    "import theano\n",
    "import theano.tensor as T\n",
    "\n",
    "X = T.scalar()\n",
    "Y = T.scalar()\n",
    "\n",
    "def modelo(X):\n",
    "    return(T.log(1 + w_0*abs(X)) + w_1*X)\n",
    "\n",
    "w_0 = theano.shared(np.asarray(0., dtype = theano.config.floatX))\n",
    "w_1 = theano.shared(np.asarray(0., dtype = theano.config.floatX))\n",
    "y = modelo(X)\n",
    "\n",
    "cost = T.mean(T.sqr(y-Y))\n",
    "gradiente_w0 = T.grad(cost=cost, wrt = w_0)\n",
    "gradiente_w1 = T.grad(cost=cost, wrt = w_1)\n",
    "updates = [[w_0, w_0 - gradiente_w0 * 0.01], [w_1, w_1 - gradiente_w1 * 0.01]]\n",
    "\n",
    "f_entrenamiento = theano.function(inputs = [X,Y], outputs = cost, updates = updates)\n",
    "costes = []\n",
    "parametros = []\n",
    "for i in range(20):\n",
    "    for x,y in zip (trX, trY):\n",
    "        cost_i = f_entrenamiento(x,y)\n",
    "    costes.append(cost_i)\n",
    "    parametros.append([w_0.get_value(),w_1.get_value()])\n",
    "    print ('En el paso', i, 'el valor de los parametros es w0:', w_0.get_value(),'w1:', w_1.get_value())\n",
    "    \n",
    "plt.plot(costes)\n"
   ]
  },
  {
   "cell_type": "markdown",
   "metadata": {},
   "source": [
    "En la grafica puede verse que se llega a la solucion en la cuarta iteracion "
   ]
  },
  {
   "cell_type": "code",
   "execution_count": 42,
   "metadata": {},
   "outputs": [
    {
     "name": "stdout",
     "output_type": "stream",
     "text": [
      "Los parametros del modelo son: w_0= 0.410275293590915 y w_1= 0.31603944633098685\n"
     ]
    }
   ],
   "source": [
    "print('Los parametros del modelo son: w_0=',parametros[3][0],\n",
    "      'y w_1=',parametros[3][1]\n",
    "     )"
   ]
  },
  {
   "cell_type": "code",
   "execution_count": null,
   "metadata": {
    "collapsed": true
   },
   "outputs": [],
   "source": []
  }
 ],
 "metadata": {
  "kernelspec": {
   "display_name": "Python 3",
   "language": "python",
   "name": "python3"
  },
  "language_info": {
   "codemirror_mode": {
    "name": "ipython",
    "version": 3
   },
   "file_extension": ".py",
   "mimetype": "text/x-python",
   "name": "python",
   "nbconvert_exporter": "python",
   "pygments_lexer": "ipython3",
   "version": "3.6.3"
  }
 },
 "nbformat": 4,
 "nbformat_minor": 2
}
