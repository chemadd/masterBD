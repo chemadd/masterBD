{
 "cells": [
  {
   "cell_type": "code",
   "execution_count": 33,
   "metadata": {},
   "outputs": [
    {
     "name": "stdout",
     "output_type": "stream",
     "text": [
      "Acierto con dafault: 0.0\n",
      "Acierto con unigramas: 90.35533992024986\n",
      "Acierto con bigramas: 91.88159264570115\n",
      "Acierto con trigramas: 91.55944921330217\n",
      "Acierto con HMMs: 92.15070026910762\n",
      "Fin\n"
     ]
    }
   ],
   "source": [
    "\n",
    "# 1. Importamos el corpus CESS del español, que es una colección de textos anotados\n",
    "from nltk.corpus import cess_cat\n",
    "\n",
    "\n",
    "# 2. Cargamos todas las frases anotadas del corpus CESS\n",
    "sents = cess_cat.tagged_sents()\n",
    "\n",
    "\n",
    "# 3. Creamos un conjunto de entrenamiento y otro de prueba\n",
    "#Metemos en el conjunto de entrenamiento el 90% de las frases, y el restante 10% en el conjunto de test\n",
    "training = []\n",
    "test = []\n",
    "for i in range(len(sents)):\n",
    "    if i % 10:\n",
    "        training.append(sents[i])\n",
    "    else:\n",
    "        test.append(sents[i])\n",
    "        \n",
    "        \n",
    "# 4. Creamos cuatro tipos distintos de analizadores morfológicos: \n",
    "# - Un tagger basado en unigramas: aprende de la estadística de cada palabra encontrada en el corpus CESS\n",
    "# - Otro basadoen bigramas: aprende de la estadística de una palabra y su palabra anterior\n",
    "# - Otro basado en trigramas: aprende a taggear una palabra basandose en la estadistica de la palabra y sus 2 anteriores\n",
    "# - Otro basado en Modelos Ocultos de Markov (en inglés Hidden Markov Models, HMM): es el modelo mas completo\n",
    "from nltk import UnigramTagger, BigramTagger, TrigramTagger, DefaultTagger\n",
    "from nltk.tag.hmm import HiddenMarkovModelTagger\n",
    "\n",
    "default_tagger = DefaultTagger('KK')\n",
    "unigram_tagger = UnigramTagger(training)\n",
    "bigram_tagger = BigramTagger(training, backoff=unigram_tagger)\n",
    "trigram_tagger = TrigramTagger(training, backoff=unigram_tagger)\n",
    "hmm_tagger = HiddenMarkovModelTagger.train(training)\n",
    "\n",
    "# 5. Evaluamos sobre el conjunto de test que no usamos para el entrenamiento, para ver qué porcentaje de acierto hemos conseguido\n",
    "print ('Acierto con dafault:',default_tagger.evaluate(test)*100)\n",
    "print ('Acierto con unigramas:',unigram_tagger.evaluate(test)*100)\n",
    "print ('Acierto con bigramas:',bigram_tagger.evaluate(test)*100)\n",
    "print ('Acierto con trigramas:',trigram_tagger.evaluate(test)*100)\n",
    "print ('Acierto con HMMs:',hmm_tagger.evaluate(test)*100)\n",
    "print('Fin')"
   ]
  },
  {
   "cell_type": "code",
   "execution_count": 35,
   "metadata": {},
   "outputs": [
    {
     "name": "stdout",
     "output_type": "stream",
     "text": [
      "[('Los', None), ('perros', None), ('son', None), ('buenos', None), ('chuchetes', None)]\n",
      "[('Los', 'da0fp0'), ('perros', 'ncfp000'), ('son', 'aq0fp0'), ('buenos', 'Fp'), ('chuchetes', 'Fpt')]\n",
      "[('Los', None), ('perros', None), ('son', None), ('buenos', None), ('chuchetes', None)]\n"
     ]
    }
   ],
   "source": [
    "# 6. Probamos uno de nuestro taggers\n",
    "\n",
    "import nltk\n",
    "\n",
    "sentence = \"Los perros son buenos chuchetes\"\n",
    "\n",
    "tokens = nltk.word_tokenize(sentence)\n",
    "tagged = trigram_tagger.tag(tokens)\n",
    "\n",
    "print (tagged)\n",
    "print(hmm_tagger.tag(tokens))\n",
    "print(bigram_tagger.tag(tokens))"
   ]
  },
  {
   "cell_type": "code",
   "execution_count": 39,
   "metadata": {},
   "outputs": [
    {
     "name": "stdout",
     "output_type": "stream",
     "text": [
      "Comenzamos taggeo\n",
      "[('el', 'da0ms0'), ('chuchete', None), ('de', 'sps00'), ('sant', 'ncms000'), ('roque', None)]\n",
      "[(('el', 'da0ms0'), 'da0fp0'), (('chuchete', None), 'ncfp000'), (('de', 'sps00'), 'aq0fp0'), (('sant', 'ncms000'), 'Fp'), (('roque', None), 'Fpt')]\n",
      "[(('el', 'da0ms0'), 'NN'), (('chuchete', None), 'NN'), (('de', 'sps00'), 'NN'), (('sant', 'ncms000'), 'NN'), (('roque', None), 'NN')]\n",
      "0.974495743403158\n"
     ]
    }
   ],
   "source": [
    "training_sent = 'el chuchete de sant roque'\n",
    "print('Comenzamos taggeo')\n",
    "\n",
    "tokens_cat = nltk.word_tokenize(training_sent)\n",
    "tagged_cat = trigram_tagger.tag(tokens_cat)\n",
    "print (tagged_cat)\n",
    "print(hmm_tagger.tag(tagged_cat))\n",
    "print(bigram_tagger.tag(tagged_cat))\n",
    "\n",
    "default_tagger = nltk.DefaultTagger('NN')\n",
    "unigram_tagger = nltk.UnigramTagger(training, backoff=default_tagger)\n",
    "bigram_tagger = nltk.BigramTagger(training, backoff=unigram_tagger)\n",
    "print(bigram_tagger.evaluate(training))"
   ]
  },
  {
   "cell_type": "code",
   "execution_count": null,
   "metadata": {
    "collapsed": true
   },
   "outputs": [],
   "source": []
  }
 ],
 "metadata": {
  "kernelspec": {
   "display_name": "Python 3",
   "language": "python",
   "name": "python3"
  },
  "language_info": {
   "codemirror_mode": {
    "name": "ipython",
    "version": 3
   },
   "file_extension": ".py",
   "mimetype": "text/x-python",
   "name": "python",
   "nbconvert_exporter": "python",
   "pygments_lexer": "ipython3",
   "version": "3.6.3"
  }
 },
 "nbformat": 4,
 "nbformat_minor": 1
}
