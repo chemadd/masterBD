{
 "cells": [
  {
   "cell_type": "markdown",
   "metadata": {},
   "source": [
    "# Text Mining K-Means"
   ]
  },
  {
   "cell_type": "markdown",
   "metadata": {},
   "source": [
    "modificarlo para usar un vectorizador tfidf y para que coja un corpus mucho más grande que contenga 2 nuevas clases (en lugar de las clases 'positivo' y 'negativo', escójase la clase 'atheism' y la clase 'space'). El corpus a usar es el de 20newsgroups."
   ]
  },
  {
   "cell_type": "code",
   "execution_count": 1,
   "metadata": {},
   "outputs": [
    {
     "name": "stdout",
     "output_type": "stream",
     "text": [
      "Loading 20 newsgroups dataset for categories:\n",
      "['alt.atheism', 'sci.space']\n"
     ]
    }
   ],
   "source": [
    "# Importamos las librerias necesarias y preparamos variables necesarias\n",
    "from sklearn.datasets import fetch_20newsgroups\n",
    "from sklearn.feature_extraction.text import TfidfVectorizer\n",
    "from sklearn.feature_extraction.text import TfidfTransformer\n",
    "from sklearn import metrics\n",
    "from sklearn.cluster import KMeans\n",
    "import numpy as np\n",
    "\n",
    "# Load some categories from the training set\n",
    "categories = [\n",
    "    'alt.atheism',\n",
    "    'sci.space'\n",
    "]\n",
    "\n",
    "print(\"Loading 20 newsgroups dataset for categories:\")\n",
    "print(categories)\n",
    "\n",
    "dataset = fetch_20newsgroups(subset='all', categories=categories,\n",
    "                             shuffle=True, random_state=42)\n",
    "num_features = 5\n",
    "num_clusters = 2\n",
    "labels = dataset.target"
   ]
  },
  {
   "cell_type": "code",
   "execution_count": 3,
   "metadata": {},
   "outputs": [
    {
     "name": "stdout",
     "output_type": "stream",
     "text": [
      "Initialization complete\n",
      "Iteration  0, inertia 1319.246\n",
      "Iteration  1, inertia 884.204\n",
      "Iteration  2, inertia 878.751\n",
      "Iteration  3, inertia 877.683\n",
      "Iteration  4, inertia 877.046\n",
      "Iteration  5, inertia 863.374\n",
      "Iteration  6, inertia 861.757\n",
      "Iteration  7, inertia 861.707\n",
      "Converged at iteration 7: center shift 1.145130e-05 within tolerance 1.181113e-05\n",
      "Homogeneity: 0.037\n",
      "Completeness: 0.039\n",
      "V-measure: 0.038\n",
      "Adjusted Rand-Index: 0.058\n",
      "Silhouette Coefficient: 0.236\n",
      "\n"
     ]
    }
   ],
   "source": [
    "vectorizer = TfidfVectorizer(max_df=0.5, max_features=num_features,\n",
    "                             min_df=2, stop_words='english') #,\n",
    "                             # use_idf=use_idf)\n",
    "X = vectorizer.fit_transform(dataset.data)\n",
    "\n",
    "# Clusterizacion\n",
    "km = KMeans(n_clusters=num_clusters, init='k-means++', max_iter=100, n_init=1,\n",
    "            verbose=True)\n",
    "\n",
    "km.fit(X)\n",
    "\n",
    "# Obtenemos resultados\n",
    "print(\"Homogeneity: %0.3f\" % metrics.homogeneity_score(labels, km.labels_))\n",
    "print(\"Completeness: %0.3f\" % metrics.completeness_score(labels, km.labels_))\n",
    "print(\"V-measure: %0.3f\" % metrics.v_measure_score(labels, km.labels_))\n",
    "print(\"Adjusted Rand-Index: %.3f\"\n",
    "      % metrics.adjusted_rand_score(labels, km.labels_))\n",
    "print(\"Silhouette Coefficient: %0.3f\"\n",
    "      % metrics.silhouette_score(X, km.labels_, sample_size=1000))\n",
    "\n",
    "print()"
   ]
  },
  {
   "cell_type": "code",
   "execution_count": null,
   "metadata": {
    "collapsed": true
   },
   "outputs": [],
   "source": []
  }
 ],
 "metadata": {
  "kernelspec": {
   "display_name": "Python 3",
   "language": "python",
   "name": "python3"
  },
  "language_info": {
   "codemirror_mode": {
    "name": "ipython",
    "version": 3
   },
   "file_extension": ".py",
   "mimetype": "text/x-python",
   "name": "python",
   "nbconvert_exporter": "python",
   "pygments_lexer": "ipython3",
   "version": "3.6.3"
  }
 },
 "nbformat": 4,
 "nbformat_minor": 1
}
