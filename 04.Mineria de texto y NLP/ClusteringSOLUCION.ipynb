{
 "cells": [
  {
   "cell_type": "markdown",
   "metadata": {},
   "source": [
    "# Práctica Text Mining K-Means con tfidf"
   ]
  },
  {
   "cell_type": "markdown",
   "metadata": {
    "collapsed": true
   },
   "source": [
    "# RESOLUCIÓN DEL CASO PRÁCTICO"
   ]
  },
  {
   "cell_type": "markdown",
   "metadata": {},
   "source": [
    "\n",
    "1.- Cargamos el corpus de textos [20newsgroups](http://qwone.com/~jason/20Newsgroups/) y del mismo seleccionamos 2 grupos de noticias: 'alt.atheism'y 'sci.space' (de las 20 existentes)\n"
   ]
  },
  {
   "cell_type": "code",
   "execution_count": 55,
   "metadata": {},
   "outputs": [
    {
     "name": "stdout",
     "output_type": "stream",
     "text": [
      "Cargamos las categorías del dataset 20newsgroups: ('alt.atheism', 'sci.space')\n",
      "Número de documentos cargados del dataset 20newsgroups para esas 2 categorias: 1786 documentos\n",
      "[0 0 1 ..., 1 1 0]\n",
      "Número de clusters: 8\n"
     ]
    }
   ],
   "source": [
    "#Cargamos el corpus \"20newsgroups\" señalado en el ejercicio:\n",
    "from sklearn.datasets import fetch_20newsgroups\n",
    "#Importamos el método de clusterización KMeans:\n",
    "from sklearn.cluster import KMeans\n",
    "#Importamos el método 'tiempo'\n",
    "from time import time\n",
    "#Importamos numpy\n",
    "import numpy as np\n",
    "\n",
    "#Utilizamos 2 clases/categorias dentro del corpus \"20newsgroups\" cargado: 'atheism' y 'space'\n",
    "categories = 'alt.atheism','sci.space'\n",
    "\n",
    "print(\"Cargamos las categorías del dataset 20newsgroups:\", categories)\n",
    "dataset = fetch_20newsgroups(subset='all', categories=categories, shuffle=True, random_state=42)\n",
    "print('Número de documentos cargados del dataset 20newsgroups para esas 2 categorias:',\"%d documentos\" % len(dataset.data))\n",
    "#print()\n",
    "labels = dataset.target\n",
    "print (dataset.target)\n",
    "#seleccionamos manualmente el número de clústers (k)\n",
    "k = 8\n",
    "#He comprobado que es el número más adecuado al ofrecer unas mejores medidas de ajuste junto al resto de parámetros seleccionados\n",
    "print ('Número de clusters:', k)"
   ]
  },
  {
   "cell_type": "markdown",
   "metadata": {},
   "source": [
    "\n",
    "2.- Vectorizamos los textos del corpus (convertimos cada texto en un vector de frecuencias de palabras)\n"
   ]
  },
  {
   "cell_type": "code",
   "execution_count": 56,
   "metadata": {},
   "outputs": [
    {
     "name": "stdout",
     "output_type": "stream",
     "text": [
      "\n",
      "Vectorizamos los textos y mostramos la Matriz tf:\n",
      "[[ 0.  0.  0. ...,  0.  0.  0.]\n",
      " [ 0.  0.  0. ...,  0.  0.  0.]\n",
      " [ 0.  0.  0. ...,  0.  0.  0.]\n",
      " ..., \n",
      " [ 0.  0.  0. ...,  0.  0.  0.]\n",
      " [ 0.  0.  0. ...,  0.  0.  0.]\n",
      " [ 0.  0.  0. ...,  0.  0.  0.]]\n",
      "\n",
      "Mostramos el tamaño del análisis... nº de muestras: 1786, nº de atributos: 15500\n"
     ]
    }
   ],
   "source": [
    "#Importamos el vectorizador tfidf\n",
    "from sklearn.feature_extraction.text import TfidfVectorizer\n",
    "vectorizer = TfidfVectorizer(max_df=0.5, min_df=2, stop_words='english', use_idf=5)\n",
    "#vectorizer = TfidfVectorizer()\n",
    "X = vectorizer.fit_transform(dataset.data) #El vectorizador aprende el vocabulario del corpus\n",
    "#print(\"tiempo empleado: %fs\" % (time() - t0), \", numero de ejemplos: %d, numero de campos: %d\" % X.shape)\n",
    "#Transformamos los documentos en una matriz de tf's de documentos que es nuestro dataset, donde:\n",
    "# - cada fila representa una muestra (un documento del corpus)\n",
    "# - cada columna representa un atributo (la frecuencia de una palabra en dicho documento)\n",
    "print()\n",
    "print(\"Vectorizamos los textos y mostramos la Matriz tf:\")\n",
    "print (X.toarray())\n",
    "print()\n",
    "\n",
    "print(\"Mostramos el tamaño del análisis...\", \"nº de muestras: %d, nº de atributos: %d\" % X.shape)"
   ]
  },
  {
   "cell_type": "markdown",
   "metadata": {},
   "source": [
    "\n",
    "3.- Clusterizamos los documentos mediante el algoritmo K-means, donde los parámetros: \n",
    "- *n_clusters* : int, optional, default: 8 (The number of clusters to form as well as the number of centroids to generate). \n",
    "- *max_iter* : int, default: 100 (Maximum number of iterations of the k-means algorithm for a single run). \n",
    "- *n_init*: int, default: 10 (Number of time the k-means algorithm will be run with different centroid seeds. The final results will be the best output of n_init consecutive runs in terms of inertia). \n",
    "- *init*: {‘k-means++’, ‘random’ or an ndarray} Method for initialization, defaults to ‘k-means++’ (‘k-means++’ : selects initial cluster centers for k-mean clustering in a smart way to speed up convergence. See section Notes in k_init for more details.‘random’: choose k observations (rows) at random from data for the initial centroids). \n",
    "- *verbose* : int, default 0 (Verbosity mode).\n",
    "\n"
   ]
  },
  {
   "cell_type": "code",
   "execution_count": 57,
   "metadata": {},
   "outputs": [
    {
     "name": "stdout",
     "output_type": "stream",
     "text": [
      "Initialization complete\n",
      "Iteration  0, inertia 3226.611\n",
      "Iteration  1, inertia 1697.062\n",
      "Iteration  2, inertia 1688.864\n",
      "Iteration  3, inertia 1684.502\n",
      "Iteration  4, inertia 1680.799\n",
      "Iteration  5, inertia 1679.243\n",
      "Iteration  6, inertia 1678.108\n",
      "Iteration  7, inertia 1677.130\n",
      "Iteration  8, inertia 1677.049\n",
      "Converged at iteration 8: center shift 0.000000e+00 within tolerance 6.317085e-09\n",
      "tiempo empleado: 1.139s\n",
      "\n",
      "Mostramos los Clusters conformados\n",
      "Cluster 0: sandvik ico vice tek com bobbe kent beauchaine apple newton\n",
      "Cluster 1: sgi livesey solntze wpd jon com fido keith caltech asd\n",
      "Cluster 2: space sci cmu cs digest isu venari international vacation tom\n",
      "Cluster 3: keith caltech cwru kmr4 schneider po allan cco ryan morality\n",
      "Cluster 4: henry access toronto digex pat zoo spencer net zoology prb\n",
      "Cluster 5: islam jaeger rushdie bu gregg islamic monash muslim buphy law\n",
      "Cluster 6: space nasa gov com moon alaska like just earth shuttle\n",
      "Cluster 7: god people atheism say don believe uk atheists religion bible\n"
     ]
    }
   ],
   "source": [
    "#Aplicamos el método de clusterización \"K-Means\"\n",
    "km = KMeans(n_clusters=k, init='k-means++', max_iter=100, n_init=1,verbose=5)\n",
    "#km = KMeans(n_clusters=k,max_iter=100)\n",
    "#las iteraciones paran cuando se minimiza la inercia \n",
    "t0 = time()\n",
    "km.fit(X)\n",
    "print(\"tiempo empleado: %0.3fs\" % (time() - t0))\n",
    "print()\n",
    "#Mostramos los clústers\n",
    "terms = vectorizer.get_feature_names()\n",
    "order_centroids = km.cluster_centers_.argsort()[:, ::-1]\n",
    "\n",
    "print (\"Mostramos los Clusters conformados\")\n",
    "for i in range(k):\n",
    "    print(\"Cluster %d:\" % i, end='')\n",
    "    for ind in order_centroids[i, :10]:\n",
    "          print(' %s' % terms[ind], end='')\n",
    "    print()"
   ]
  },
  {
   "cell_type": "markdown",
   "metadata": {},
   "source": [
    "\n",
    "4.- Mostramos en un gráfico bidimensional la distribución de los puntos\n"
   ]
  },
  {
   "cell_type": "code",
   "execution_count": 63,
   "metadata": {},
   "outputs": [
    {
     "data": {
      "image/png": "[encoded data removed]",
      "text/plain": [
       "<matplotlib.figure.Figure at 0x1d021d28278>"
      ]
     },
     "metadata": {},
     "output_type": "display_data"
    }
   ],
   "source": [
    "#Estandarizamos los valores de X para una mejor representación\n",
    "from sklearn.preprocessing import StandardScaler\n",
    "X_estandar = StandardScaler(with_mean=False).fit_transform(X)\n",
    "#importamos el módulo matplotlib para realizar las gráficas\n",
    "import matplotlib.pyplot as plt\n",
    "%matplotlib inline\n",
    "#Definimos parámetros del gráfico de tipo nube de puntos y lo mostramos\n",
    "plt.scatter(X_estandar.toarray()[:,0], X_estandar.toarray()[:,1], color=\"blue\", marker='*', s=30, lw=0, alpha=0.9)\n",
    "plt.title(\"Representación de la nube de puntos\")\n",
    "plt.xlabel(\"Eje de valores x\")\n",
    "plt.ylabel(\"Eje de valores y\")\n",
    "plt.grid(True)\n",
    "plt.show()"
   ]
  },
  {
   "cell_type": "markdown",
   "metadata": {},
   "source": [
    "\n",
    "5.- Medimos la calidad de nuestro proceso de clusterización con diferentes métricas\n"
   ]
  },
  {
   "cell_type": "code",
   "execution_count": 59,
   "metadata": {},
   "outputs": [
    {
     "name": "stdout",
     "output_type": "stream",
     "text": [
      "Homogeneity: 0.898\n",
      "Completeness: 0.373\n",
      "V-measure: 0.527\n"
     ]
    }
   ],
   "source": [
    "from sklearn import metrics\n",
    "#Medimos la calidad de nuestro procedimiento de clusterización\n",
    "\n",
    "#Un cluster es homogéneo/homogeneity si todos sus elementos contienen miembros de una misma clase\n",
    "print(\"Homogeneity: %0.3f\" % metrics.homogeneity_score(labels, km.labels_))\n",
    "\n",
    "#Una clase es íntegra/completeness si todos sus elementos pertenecen al mismo cluster\n",
    "print(\"Completeness: %0.3f\" % metrics.completeness_score(labels, km.labels_))\n",
    "\n",
    "#V-measure es la media armónica entre la homogeneidad y la integridad:\n",
    "#v-measure = 2 * (homogeneity * completeness) / (homogeneity + completeness)\n",
    "print(\"V-measure: %0.3f\" % metrics.v_measure_score(labels, km.labels_))\n",
    "\n",
    "#El Silhouette Coefficient se calcula usando la distancia intra-clúster media (a) y la distancia media del clúster más próxima (b) para cada muestra.\n",
    "#print(\"Silhouette Coefficient: %0.3f\" % metrics.silhouette_score(X, km.labels_))\n",
    "#print()"
   ]
  },
  {
   "cell_type": "markdown",
   "metadata": {},
   "source": [
    "Los datos de calidad son adecuados para la muestra con la que hemos trabajado (1550 elementos gestionados en 8 clusters). El dato de homogeneidad es alto (0,898) lo que indica que los elementos que componen cada cluster son muy similares entre ellos. En un proceso de clusterización se busca este hecho y que, además, los distintos clúster sean los más heterogéneos posible entre ellos."
   ]
  },
  {
   "cell_type": "markdown",
   "metadata": {},
   "source": [
    "\n",
    "6.- Usamos los clusters previos para clasificar 2 nuevos textos entrantes (uno suyo contexto es el ateísmo, y otro el viaje espacial hacia la luna), con el objeto de comprobar si las predicciones se corresponden con los clusters creados.\n"
   ]
  },
  {
   "cell_type": "code",
   "execution_count": 60,
   "metadata": {},
   "outputs": [
    {
     "name": "stdout",
     "output_type": "stream",
     "text": [
      "Clasificamos 2 nuevos textos:\n",
      "\n",
      "TEXTO 1 (sobre el ateísmo en Arabia Saudí): ['Atheism remains one of the most extreme taboos in Saudi Arabia. It is a red line that no one can cross. Atheists in Saudi Arabia have been suffering from imprisonment, maginalisation, slander, ostracisation and even execution. Atheists are considered terrorists. Efforts for normalisation between those who believe and those who don’t remain bleak in the kingdom. Despite constant warnings of Saudi religious authorities of “the danger of atheism,” many citizens in the kingdom are turning their backs on Islam. The Saudi dehumanizing strict laws in the name of Islam, easy access to information and mass communication are the primary driving forces pushing Saudis to leave religion. Unfortunately, those who explicitly do, find themselves harshly punished or forced to live dual lives.']\n",
      "\n",
      "TEXTO 2 (sobre la llegada del hombre a la luna): ['The man speaking was Neil Armstrong, whose brevity marked the moment when the lunar module Eagle completed its perilous journey from Apollo 11 and touched down upon the surface of the Moon. The world waited on tenterhooks as hour after hour of checks were carried out. Finally, the hatch opened, and Armstrong descended the ladder to become the first human to set foot on the Moon, with the now immortal words: That’s one small step for man, one giant leap for mankind.There cannot be many who have not, however briefly, glanced at the Moon and wondered what it must have been like for Armstrong to look back at the blue and green planet we call home. The landing may have happened almost five decades ago, but space exploration has not lost its allure. Even those of us who were not born when this momentous event unfolded are caught in its gravitational pull. With this in mind, it seems only fitting that Sotheby’s New York has decided to host its first space exploration auction, featuring memorabilia from American-led space missions, exactly 48 years to the day after Apollo 11’s lunar landing.']\n",
      "\n",
      "Nueva matriz tf1: [[ 0.  0.  0. ...,  0.  0.  0.]]\n",
      "Nueva matriz tf2: [[ 0.  0.  0. ...,  0.  0.  0.]]\n",
      "\n",
      "Prediccion Texto 1 (sobre el ateísmo): Cluster 7\n",
      "Prediccion Texto 2 (sobre la llegada del hombre a la luna): Cluster 6\n"
     ]
    }
   ],
   "source": [
    "print(\"Clasificamos 2 nuevos textos:\")\n",
    "print ()\n",
    "testCorpus = [\"Atheism remains one of the most extreme taboos in Saudi Arabia. It is a red line that no one can cross. Atheists in Saudi Arabia have been suffering from imprisonment, maginalisation, slander, ostracisation and even execution. Atheists are considered terrorists. Efforts for normalisation between those who believe and those who don’t remain bleak in the kingdom. Despite constant warnings of Saudi religious authorities of “the danger of atheism,” many citizens in the kingdom are turning their backs on Islam. The Saudi dehumanizing strict laws in the name of Islam, easy access to information and mass communication are the primary driving forces pushing Saudis to leave religion. Unfortunately, those who explicitly do, find themselves harshly punished or forced to live dual lives.\"]\n",
    "testCorpus2 = [\"The man speaking was Neil Armstrong, whose brevity marked the moment when the lunar module Eagle completed its perilous journey from Apollo 11 and touched down upon the surface of the Moon. The world waited on tenterhooks as hour after hour of checks were carried out. Finally, the hatch opened, and Armstrong descended the ladder to become the first human to set foot on the Moon, with the now immortal words: That’s one small step for man, one giant leap for mankind.There cannot be many who have not, however briefly, glanced at the Moon and wondered what it must have been like for Armstrong to look back at the blue and green planet we call home. The landing may have happened almost five decades ago, but space exploration has not lost its allure. Even those of us who were not born when this momentous event unfolded are caught in its gravitational pull. With this in mind, it seems only fitting that Sotheby’s New York has decided to host its first space exploration auction, featuring memorabilia from American-led space missions, exactly 48 years to the day after Apollo 11’s lunar landing.\"]\n",
    "tfMatrixTest =  vectorizer.transform(testCorpus)\n",
    "tfMatrixTest2 =  vectorizer.transform(testCorpus2)\n",
    "\n",
    "print (\"TEXTO 1 (sobre el ateísmo en Arabia Saudí):\",testCorpus)\n",
    "print ()\n",
    "print (\"TEXTO 2 (sobre la llegada del hombre a la luna):\",testCorpus2)\n",
    "print ()\n",
    "print (\"Nueva matriz tf1:\",tfMatrixTest.toarray() )\n",
    "print (\"Nueva matriz tf2:\",tfMatrixTest2.toarray() )\n",
    "print ()\n",
    "prediction = km.predict(tfMatrixTest)[0]\n",
    "print (\"Prediccion Texto 1 (sobre el ateísmo): Cluster\",prediction)\n",
    "prediction2 = km.predict(tfMatrixTest2)[0]\n",
    "print (\"Prediccion Texto 2 (sobre la llegada del hombre a la luna): Cluster\",prediction2)\n"
   ]
  },
  {
   "cell_type": "markdown",
   "metadata": {
    "collapsed": true
   },
   "source": [
    "Vemos que el sistema acierta en los 2 casos. Y es que:\n",
    "\n",
    "- Cluster 6: space nasa gov com moon alaska like just earth shuttle (enmarcado en el contexto, espacial, adecuado)\n",
    "- Cluster 7: god people atheism say don believe uk atheists religion bible (enmarcado en el contexto, ateísmo, adecuado)"
   ]
  },
  {
   "cell_type": "code",
   "execution_count": null,
   "metadata": {
    "collapsed": true
   },
   "outputs": [],
   "source": []
  }
 ],
 "metadata": {
  "kernelspec": {
   "display_name": "Python 3",
   "language": "python",
   "name": "python3"
  },
  "language_info": {
   "codemirror_mode": {
    "name": "ipython",
    "version": 3
   },
   "file_extension": ".py",
   "mimetype": "text/x-python",
   "name": "python",
   "nbconvert_exporter": "python",
   "pygments_lexer": "ipython3",
   "version": "3.6.3"
  }
 },
 "nbformat": 4,
 "nbformat_minor": 1
}
