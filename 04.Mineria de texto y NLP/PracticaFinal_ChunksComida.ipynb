{
 "cells": [
  {
   "cell_type": "markdown",
   "metadata": {},
   "source": [
    "El objetivo es programar una función que reciba como input un texto de usuario y devuelva los fragmentos de texto (chunks) que hagan referencia a las comidas y cantidades que ha solicitado. No es necesario, ni es el objetivo de este ejercicio, construir un clasificador de intención previo a esta función, sino simplemente una función que presuponemos recibe una frase con la intención 'Pedir_comida'. Tampoco es objetivo normalizar la salida (por ej.: no es necesario convertir 'tres' a '3' ni 'pizzas' a 'pizza'). Es, por tanto, un ejercicio de mínimos."
   ]
  },
  {
   "cell_type": "markdown",
   "metadata": {},
   "source": [
    "el alumno deberá usar un NaiveBayesClassifier, en lugar del MaxEntClassifier, para localizar los elementos descritos anteriormente (comida y cantidad)"
   ]
  },
  {
   "cell_type": "markdown",
   "metadata": {},
   "source": [
    "Se deberá comenzar la práctica por el nivel más básico de dificultad (RegexParser) y, en caso de conseguirlo, añadir los siguientes niveles de forma sucesiva. De esta forma, el entregable contendrá todas y cada una de las tres formas de solucionar el problema. No basta, por tanto, con incluir, por ejemplo, únicamente un NaiveBayesClassifier, hay que incluir también las otras dos formas si se quiere obtener la máxima puntuación."
   ]
  },
  {
   "cell_type": "markdown",
   "metadata": {},
   "source": [
    "Para llevar a cabo la práctica, deberá construirse una cadena NLP con NLTK, con los siguientes elementos:\n",
    "\n",
    "    segmentación de frases,\n",
    "    tokenización,\n",
    "    POS tagger (analizador mofológico para el español).\n",
    "\n",
    "A continuación, los POS tags obtenidos serán usados por el RegexParser, el UnigramParser, el BigramParser y el NaiveBayesClassifier.\n"
   ]
  },
  {
   "cell_type": "code",
   "execution_count": 1,
   "metadata": {
    "collapsed": true
   },
   "outputs": [],
   "source": [
    "# Creamos un corpus de ejemplo para el reconocimiento de peticiones de comida:\n",
    "corpus_comida = [\"Me gustaria tomar unas rabas\",\n",
    "                 \"Quisiera un pincho de tortilla\", \n",
    "                 \"Me encantaria unas gambas a la plancha\",\n",
    "                 \"Me pones un bocadillo de bacon con queso?\",\n",
    "                 \"Podrias ponerme una ensalada de tomate?\",\n",
    "                 \"Un bocata de lomo\",\n",
    "                 \"Unos pimientos del piquillo\",\n",
    "                 \"Me puedes traer un plato combinado?\",\n",
    "                 \"Podria ser un filete poco hecho?\"]"
   ]
  },
  {
   "cell_type": "code",
   "execution_count": 2,
   "metadata": {},
   "outputs": [
    {
     "name": "stdout",
     "output_type": "stream",
     "text": [
      "Generando sentencias de aprendizaje... 2018-08-31 23:27:42.891839\n",
      "Entrenando al Tagger ... 2018-08-31 23:28:12.079350\n",
      "Tagger entrenado... 2018-08-31 23:28:17.029585\n"
     ]
    }
   ],
   "source": [
    "import datetime\n",
    "import nltk\n",
    "# Entrenamos el tagger\n",
    "from nltk.corpus import cess_esp\n",
    "\n",
    "from nltk import UnigramTagger, BigramTagger, TrigramTagger,DefaultTagger\n",
    "from nltk.tag.hmm import HiddenMarkovModelTagger\n",
    "\n",
    "# Procedemos al entrenamiento utilizando los tags de cess_esp\n",
    "sents = cess_esp.tagged_sents()\n",
    "#Metemos en el conjunto de entrenamiento el 90% de las frases, y el restante 10% en el conjunto de test\n",
    "training = []\n",
    "test = []\n",
    "print(\"Generando sentencias de aprendizaje...\", datetime.datetime.now())\n",
    "for i in range(len(sents)):\n",
    "    if i % 10:\n",
    "        training.append(sents[i])\n",
    "    else:\n",
    "        test.append(sents[i])\n",
    "\n",
    "# Establecemos la cadena de taggeo, utilizando el HMM en primer lugar y haciendo que,\n",
    "# si no reconoce una palabra la intente taggear usando otro tagger y asi sucesivamente.\n",
    "print(\"Entrenando al Tagger ...\", datetime.datetime.now())\n",
    "default_tagger = DefaultTagger ('NLTK_FASHION')\n",
    "unigram_tagger = UnigramTagger(training, backoff=default_tagger)\n",
    "bigram_tagger = BigramTagger(training, backoff=unigram_tagger)\n",
    "trigram_tagger = TrigramTagger(training, backoff=bigram_tagger)\n",
    "hmm_tagger = HiddenMarkovModelTagger.train(training, backoff=trigram_tagger)\n",
    "print(\"Tagger entrenado...\", datetime.datetime.now())"
   ]
  },
  {
   "cell_type": "code",
   "execution_count": 16,
   "metadata": {},
   "outputs": [
    {
     "name": "stdout",
     "output_type": "stream",
     "text": [
      "chunk.RegexpParser with 3 stages:\n",
      "RegexpChunkParser with 1 rules:\n",
      "    Comida   <ChunkRule: '<bocadillo|bocata|pizza|piza|pincho|racion|plato>'>\n",
      "RegexpChunkParser with 1 rules:\n",
      "    Ingredientes   <ChunkRule: '<jamon|chorizo|queso|calamares|pimientos|patatas|tortilla>'>\n",
      "RegexpChunkParser with 1 rules:\n",
      "    Cantidad   <ChunkRule: '<[0-9]+|unas|una|un|unos>'>\n"
     ]
    }
   ],
   "source": [
    "# Una vez entrenado procedemos a analizar las frases de nuestro corpus mediante un \n",
    "# Regexp parser para obtener las entidades que aparezcan en los textos\n",
    "# Definimos la gramatica que nos permita reconocer comidas y cantidades\n",
    "# particionar comidas\n",
    "\n",
    "# Definimos un tagger con RegExp:\n",
    "patterns = [\n",
    "    (r'(.[0-9]+|unas|una|un|unos)','CANT'),\n",
    "    (r'bocadillo|bocata|pizza|piza|pincho|racion|plato', 'COMIDA'),\n",
    "    (r'jamon|chorizo|queso|calamares|pimientos|patatas|tortilla','INGR')\n",
    "]\n",
    "regexp_tagger = nltk.RegexpTagger(patterns, backoff=bigram_tagger)\n",
    "grammar = r\"\"\"\n",
    "  Comida: {<bocadillo|bocata|pizza|piza|pincho|racion|plato>} # Comida\n",
    "  Ingredientes: {<jamon|chorizo|queso|calamares|pimientos|patatas|tortilla>} # Ingredientes\n",
    "  Cantidad: {<[0-9]+|unas|una|un|unos>} # Cantidad\n",
    "  \"\"\"\n",
    "regex_parser = nltk.RegexpParser(grammar)\n",
    "\n",
    "print(regex_parser)"
   ]
  },
  {
   "cell_type": "code",
   "execution_count": 18,
   "metadata": {},
   "outputs": [
    {
     "name": "stdout",
     "output_type": "stream",
     "text": [
      "TAGGER HMMs: [('Quiero', 'sps00'), ('un', 'di0ms0'), ('jamon', 'ncms000'), ('y', 'cc'), ('un', 'di0ms0'), ('plato', 'ncms000'), ('de', 'sps00'), ('calamares', 'da0fs0')]\n",
      "TAGGER Bigram: [('Quiero', 'vmip1s0'), ('un', 'di0ms0'), ('jamon', 'NLTK_FASHION'), ('y', 'cc'), ('un', 'di0ms0'), ('plato', 'ncms000'), ('de', 'sps00'), ('calamares', 'NLTK_FASHION')]\n",
      "[('Quiero', 'NNP'), ('un', 'JJ'), ('jamon', 'NN'), ('y', 'NN'), ('un', 'JJ'), ('plato', 'NN'), ('de', 'IN'), ('calamares', 'NNS')]\n",
      "[('Quiero', 'vmip1s0'), ('un', 'CANT'), ('jamon', 'INGR'), ('y', 'cc'), ('un', 'CANT'), ('plato', 'COMIDA'), ('de', 'sps00'), ('calamares', 'INGR')]\n",
      "# Input:\n",
      " <vmip1s0>  <CANT>  <INGR>  <cc>  <CANT>  <COMIDA>  <sps00>  <INGR> \n",
      "# Comida:\n",
      " <vmip1s0>  <CANT>  <INGR>  <cc>  <CANT>  <COMIDA>  <sps00>  <INGR> \n",
      "# Input:\n",
      " <vmip1s0>  <CANT>  <INGR>  <cc>  <CANT>  <COMIDA>  <sps00>  <INGR> \n",
      "# Ingredientes:\n",
      " <vmip1s0>  <CANT>  <INGR>  <cc>  <CANT>  <COMIDA>  <sps00>  <INGR> \n",
      "# Input:\n",
      " <vmip1s0>  <CANT>  <INGR>  <cc>  <CANT>  <COMIDA>  <sps00>  <INGR> \n",
      "# Cantidad:\n",
      " <vmip1s0>  <CANT>  <INGR>  <cc>  <CANT>  <COMIDA>  <sps00>  <INGR> \n"
     ]
    },
    {
     "data": {
      "image/png": "[encoded data removed]",
      "text/plain": [
       "Tree('S', [('Quiero', 'vmip1s0'), ('un', 'CANT'), ('jamon', 'INGR'), ('y', 'cc'), ('un', 'CANT'), ('plato', 'COMIDA'), ('de', 'sps00'), ('calamares', 'INGR')])"
      ]
     },
     "execution_count": 18,
     "metadata": {},
     "output_type": "execute_result"
    }
   ],
   "source": [
    "from nltk import Tree\n",
    "from nltk.chunk import *\n",
    "\n",
    "sentencia = \"Quiero un jamon y un plato de calamares\"\n",
    "tokens = nltk.word_tokenize(sentencia)\n",
    "tagged = hmm_tagger.tag(tokens)\n",
    "print (\"TAGGER HMMs:\",tagged)\n",
    "tagged_bigram = bigram_tagger.tag(tokens)\n",
    "print (\"TAGGER Bigram:\",tagged_bigram)\n",
    "prueba = nltk.pos_tag(tokens)\n",
    "print(prueba)\n",
    "# chunked_text = tagstr2tree('quiero/OT un/Cantidad jamon/Comida')\n",
    "# print (chunked_text)\n",
    "# PROBANDO!!!!\n",
    "kk = regexp_tagger.tag(tokens)\n",
    "print(kk)\n",
    "regex_parser.parse(kk, trace=True)\n",
    "# regex_parser.parse(tagged_bigram, trace=True)\n",
    "# unchunk_text = chunked_text.flatten()\n",
    "# print (unchunk_text)\n",
    "# regex_parser.parse(chunked_text, trace=True)"
   ]
  },
  {
   "cell_type": "code",
   "execution_count": 5,
   "metadata": {},
   "outputs": [
    {
     "name": "stdout",
     "output_type": "stream",
     "text": [
      "parsed_sentence= (S\n",
      "  (NP Mary/NN)\n",
      "  saw/VBD\n",
      "  (CLAUSE\n",
      "    (NP the/DT cat/NN)\n",
      "    (VP sit/VB (PP on/IN (NP the/DT mat/NN)))))\n"
     ]
    }
   ],
   "source": [
    "  \"\"\"\n",
    "  Natural Language Toolkit: code_cascaded_chunker\n",
    "  http://www.nltk.org/book/ch07.html#code-cascaded-chunker\n",
    "  \"\"\"\n",
    "  grammar = r\"\"\"\n",
    "  NP: {<DT|JJ|NN.*>+}          # Chunk sequences of DT, JJ, NN\n",
    "  PP: {<IN><NP>}               # Chunk prepositions followed by NP\n",
    "  VP: {<VB.*><NP|PP|CLAUSE>+$} # Chunk verbs and their arguments\n",
    "  CLAUSE: {<NP><VP>}           # Chunk NP, VP\n",
    "  \"\"\"\n",
    "  cp = nltk.RegexpParser(grammar)\n",
    "  sentence = [(\"Mary\", \"NN\"), (\"saw\", \"VBD\"), (\"the\", \"DT\"), (\"cat\", \"NN\"),  (\"sit\", \"VB\"), (\"on\", \"IN\"), (\"the\", \"DT\"), (\"mat\", \"NN\")]\n",
    "  parsed_sentence = cp.parse(sentence)\n",
    "  print('parsed_sentence=', parsed_sentence) "
   ]
  },
  {
   "cell_type": "code",
   "execution_count": null,
   "metadata": {
    "collapsed": true
   },
   "outputs": [],
   "source": []
  }
 ],
 "metadata": {
  "kernelspec": {
   "display_name": "Python 3",
   "language": "python",
   "name": "python3"
  },
  "language_info": {
   "codemirror_mode": {
    "name": "ipython",
    "version": 3
   },
   "file_extension": ".py",
   "mimetype": "text/x-python",
   "name": "python",
   "nbconvert_exporter": "python",
   "pygments_lexer": "ipython3",
   "version": "3.6.3"
  }
 },
 "nbformat": 4,
 "nbformat_minor": 2
}
