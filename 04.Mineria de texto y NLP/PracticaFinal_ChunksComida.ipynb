{
 "cells": [
  {
   "cell_type": "markdown",
   "metadata": {},
   "source": [
    "El objetivo es programar una función que reciba como input un texto de usuario y devuelva los fragmentos de texto (chunks) que hagan referencia a las comidas y cantidades que ha solicitado. No es necesario, ni es el objetivo de este ejercicio, construir un clasificador de intención previo a esta función, sino simplemente una función que presuponemos recibe una frase con la intención 'Pedir_comida'. Tampoco es objetivo normalizar la salida (por ej.: no es necesario convertir 'tres' a '3' ni 'pizzas' a 'pizza'). Es, por tanto, un ejercicio de mínimos."
   ]
  },
  {
   "cell_type": "markdown",
   "metadata": {},
   "source": [
    "el alumno deberá usar un NaiveBayesClassifier, en lugar del MaxEntClassifier, para localizar los elementos descritos anteriormente (comida y cantidad)"
   ]
  },
  {
   "cell_type": "markdown",
   "metadata": {},
   "source": [
    "Se deberá comenzar la práctica por el nivel más básico de dificultad (RegexParser) y, en caso de conseguirlo, añadir los siguientes niveles de forma sucesiva. De esta forma, el entregable contendrá todas y cada una de las tres formas de solucionar el problema. No basta, por tanto, con incluir, por ejemplo, únicamente un NaiveBayesClassifier, hay que incluir también las otras dos formas si se quiere obtener la máxima puntuación."
   ]
  },
  {
   "cell_type": "markdown",
   "metadata": {},
   "source": [
    "Para llevar a cabo la práctica, deberá construirse una cadena NLP con NLTK, con los siguientes elementos:\n",
    "\n",
    "    segmentación de frases,\n",
    "    tokenización,\n",
    "    POS tagger (analizador mofológico para el español).\n",
    "\n",
    "A continuación, los POS tags obtenidos serán usados por el RegexParser, el UnigramParser, el BigramParser y el NaiveBayesClassifier.\n"
   ]
  },
  {
   "cell_type": "code",
   "execution_count": null,
   "metadata": {
    "collapsed": true
   },
   "outputs": [],
   "source": [
    "# Importamos las librerias necesarias\n",
    "from nltk import Tree\n",
    "from nltk.chunk import *\n",
    "import datetime\n",
    "import nltk\n",
    "from nltk.corpus import cess_esp\n",
    "from nltk import UnigramTagger, BigramTagger, TrigramTagger,DefaultTagger\n",
    "from nltk.tag.hmm import HiddenMarkovModelTagger"
   ]
  },
  {
   "cell_type": "code",
   "execution_count": 1,
   "metadata": {
    "collapsed": true
   },
   "outputs": [],
   "source": [
    "# Creamos un corpus de ejemplo para el reconocimiento de peticiones de comida:\n",
    "corpus_comida = [\"Me gustaria tomar unas rabas\",\n",
    "                 \"Quisiera un pincho de tortilla\", \n",
    "                 \"Me encantaria unas gambas a la plancha\",\n",
    "                 \"Me pones un bocadillo de bacon con queso?\",\n",
    "                 \"Podrias ponerme una ensalada de tomate?\",\n",
    "                 \"Un bocata de lomo\",\n",
    "                 \"Unos pimientos del piquillo\",\n",
    "                 \"Me puedes traer un plato combinado?\",\n",
    "                 \"Podria ser un filete poco hecho?\"]"
   ]
  },
  {
   "cell_type": "code",
   "execution_count": 2,
   "metadata": {},
   "outputs": [
    {
     "name": "stdout",
     "output_type": "stream",
     "text": [
      "Generando sentencias de aprendizaje... 2018-08-31 23:27:42.891839\n",
      "Entrenando al Tagger ... 2018-08-31 23:28:12.079350\n",
      "Tagger entrenado... 2018-08-31 23:28:17.029585\n"
     ]
    }
   ],
   "source": [
    "# Entrenamos el tagger\n",
    "\n",
    "# Procedemos al entrenamiento utilizando los tags de cess_esp\n",
    "sents = cess_esp.tagged_sents()\n",
    "#Metemos en el conjunto de entrenamiento el 90% de las frases, y el restante 10% en el conjunto de test\n",
    "training = []\n",
    "test = []\n",
    "print(\"Generando sentencias de aprendizaje...\", datetime.datetime.now())\n",
    "for i in range(len(sents)):\n",
    "    if i % 10:\n",
    "        training.append(sents[i])\n",
    "    else:\n",
    "        test.append(sents[i])\n",
    "\n",
    "# Establecemos la cadena de taggeo, utilizando el HMM en primer lugar y haciendo que,\n",
    "# si no reconoce una palabra la intente taggear usando otro tagger y asi sucesivamente.\n",
    "print(\"Entrenando al Tagger ...\", datetime.datetime.now())\n",
    "default_tagger = DefaultTagger ('NLTK_FASHION')\n",
    "unigram_tagger = UnigramTagger(training, backoff=default_tagger)\n",
    "bigram_tagger = BigramTagger(training, backoff=unigram_tagger)\n",
    "trigram_tagger = TrigramTagger(training, backoff=bigram_tagger)\n",
    "hmm_tagger = HiddenMarkovModelTagger.train(training, backoff=trigram_tagger)\n",
    "print(\"Tagger entrenado...\", datetime.datetime.now())"
   ]
  },
  {
   "cell_type": "code",
   "execution_count": 136,
   "metadata": {},
   "outputs": [
    {
     "name": "stdout",
     "output_type": "stream",
     "text": [
      "chunk.RegexpParser with 2 stages:\n",
      "RegexpChunkParser with 1 rules:\n",
      "    Comida   <ChunkRule: '(<CANT> <TipoCOMIDA | INGR> )'>\n",
      "RegexpChunkParser with 1 rules:\n",
      "       <ChunkRule: '<Comida> (<INGR>+|(<.*>?<INGR>)+)'>\n"
     ]
    }
   ],
   "source": [
    "# Una vez entrenado procedemos a analizar las frases de nuestro corpus mediante un \n",
    "# Regexp parser para obtener las entidades que aparezcan en los textos\n",
    "# Definimos la gramatica que nos permita reconocer comidas y cantidades\n",
    "# particionar comidas\n",
    "\n",
    "# Definimos un tagger con RegExp:\n",
    "patterns = [\n",
    "    (r'([0-9]+|unas|una|un|unos)','CANT'),\n",
    "    (r'bocadillo|bocata|pizza|piza|pincho|racion|plato', 'TipoCOMIDA'),\n",
    "    (r'jamon|chorizo|queso|calamares|pimientos|patatas|tortilla','INGR')\n",
    "]\n",
    "regexp_tagger = nltk.RegexpTagger(patterns, backoff=bigram_tagger)\n",
    "grammar = r\"\"\"\n",
    "  Comida: {(<CANT> <TipoCOMIDA | INGR> )} # Comida\n",
    "  ComidaElaborada: {<Comida> (<INGR>+|(<.*>?<INGR>)+)}\n",
    "  \"\"\"\n",
    "regex_parser = nltk.RegexpParser(grammar)\n",
    "\n",
    "print(regex_parser)"
   ]
  },
  {
   "cell_type": "code",
   "execution_count": 137,
   "metadata": {},
   "outputs": [
    {
     "name": "stdout",
     "output_type": "stream",
     "text": [
      "[('Quiero', 'vmip1s0'), ('un', 'CANT'), ('jamon', 'INGR'), ('y', 'cc'), ('un', 'CANT'), ('plato', 'TipoCOMIDA'), ('calamares', 'INGR'), ('pimientos', 'INGR')]\n",
      "# Input:\n",
      " <vmip1s0>  <CANT>  <INGR>  <cc>  <CANT>  <TipoCOMIDA>  <INGR>  <INGR> \n",
      "# Comida:\n",
      " <vmip1s0> {<CANT>  <INGR>} <cc> {<CANT>  <TipoCOMIDA>} <INGR>  <INGR> \n",
      "# Input:\n",
      " <vmip1s0>  <Comida>  <cc>  <Comida>  <INGR>  <INGR> \n",
      "# :\n",
      " <vmip1s0>  <Comida>  <cc> {<Comida>  <INGR>  <INGR>}\n"
     ]
    },
    {
     "data": {
      "image/png": "[encoded data removed]",
      "text/plain": [
       "Tree('S', [('Quiero', 'vmip1s0'), Tree('Comida', [('un', 'CANT'), ('jamon', 'INGR')]), ('y', 'cc'), Tree('ComidaElaborada', [Tree('Comida', [('un', 'CANT'), ('plato', 'TipoCOMIDA')]), ('calamares', 'INGR'), ('pimientos', 'INGR')])])"
      ]
     },
     "execution_count": 137,
     "metadata": {},
     "output_type": "execute_result"
    }
   ],
   "source": [
    "sentencia1 = \"Quiero un jamon y un plato calamares pimientos\"\n",
    "tokens1 = nltk.word_tokenize(sentencia1)\n",
    "# PROBANDO!!!!\n",
    "taggeado1 = regexp_tagger.tag(tokens1)\n",
    "print(taggeado1)\n",
    "regex_parser.parse(taggeado1, trace = True)\n"
   ]
  },
  {
   "cell_type": "code",
   "execution_count": 138,
   "metadata": {},
   "outputs": [
    {
     "name": "stdout",
     "output_type": "stream",
     "text": [
      "[('Quiero', 'vmip1s0'), ('un', 'CANT'), ('jamon', 'INGR'), ('y', 'cc'), ('una', 'CANT'), ('pizza', 'TipoCOMIDA'), ('de', 'sps00'), ('chorizo', 'INGR'), ('y', 'cc'), ('queso', 'INGR'), ('y', 'cc'), ('5', 'CANT'), ('bocadillo', 'TipoCOMIDA'), ('de', 'sps00'), ('tortilla', 'INGR')]\n",
      "# Input:\n",
      " <vmip1s0>  <CANT>  <INGR>  <cc>  <CANT>  <TipoCOMIDA>  <sps00>  <INGR>  <cc>  <INGR>  <cc>  <CANT>  <TipoCOMIDA>  <sps00>  <INGR> \n",
      "# Comida:\n",
      " <vmip1s0> {<CANT>  <INGR>} <cc> {<CANT>  <TipoCOMIDA>} <sps00>  <INGR>  <cc>  <INGR>  <cc> {<CANT>  <TipoCOMIDA>} <sps00>  <INGR> \n",
      "# Input:\n",
      " <vmip1s0>  <Comida>  <cc>  <Comida>  <sps00>  <INGR>  <cc>  <INGR>  <cc>  <Comida>  <sps00>  <INGR> \n",
      "# :\n",
      " <vmip1s0>  <Comida>  <cc> {<Comida>  <sps00>  <INGR>  <cc>  <INGR>} <cc> {<Comida>  <sps00>  <INGR>}\n"
     ]
    },
    {
     "data": {
      "image/png": "[encoded data removed]",
      "text/plain": [
       "Tree('S', [('Quiero', 'vmip1s0'), Tree('Comida', [('un', 'CANT'), ('jamon', 'INGR')]), ('y', 'cc'), Tree('ComidaElaborada', [Tree('Comida', [('una', 'CANT'), ('pizza', 'TipoCOMIDA')]), ('de', 'sps00'), ('chorizo', 'INGR'), ('y', 'cc'), ('queso', 'INGR')]), ('y', 'cc'), Tree('ComidaElaborada', [Tree('Comida', [('5', 'CANT'), ('bocadillo', 'TipoCOMIDA')]), ('de', 'sps00'), ('tortilla', 'INGR')])])"
      ]
     },
     "execution_count": 138,
     "metadata": {},
     "output_type": "execute_result"
    }
   ],
   "source": [
    "sentencia = \"Quiero un jamon y una pizza de chorizo y queso y 5 bocadillo de tortilla\"\n",
    "tokens = nltk.word_tokenize(sentencia)\n",
    "# PROBANDO!!!!\n",
    "taggeado = regexp_tagger.tag(tokens)\n",
    "print(taggeado)\n",
    "regex_parser.parse(taggeado, trace = True)"
   ]
  },
  {
   "cell_type": "code",
   "execution_count": null,
   "metadata": {
    "collapsed": true
   },
   "outputs": [],
   "source": []
  }
 ],
 "metadata": {
  "kernelspec": {
   "display_name": "Python 3",
   "language": "python",
   "name": "python3"
  },
  "language_info": {
   "codemirror_mode": {
    "name": "ipython",
    "version": 3
   },
   "file_extension": ".py",
   "mimetype": "text/x-python",
   "name": "python",
   "nbconvert_exporter": "python",
   "pygments_lexer": "ipython3",
   "version": "3.6.3"
  }
 },
 "nbformat": 4,
 "nbformat_minor": 2
}
