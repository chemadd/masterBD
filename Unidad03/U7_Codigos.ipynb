{
 "cells": [
  {
   "cell_type": "markdown",
   "metadata": {},
   "source": [
    "# Unidad 6: Reglas de asociación y Market Basket Analysis\n",
    "\n",
    "## Apriori\n",
    "El algoritmo Apriori no está implementado en scikit-learn de momento. Su uso no encaja con las categorías de algoritmos de la biblioteca, por lo que se ha considerado que debería implementarse en otro paquete separado. \n",
    "\n",
    "Hay algunas implementaciones sencillas disponibles en Internet. Aquí vamos a usar una implementación de Everaldo Aguiar & Reid Johnson se puede encontrar aquí:\n",
    "http://nbviewer.ipython.org/github/cse40647/cse40647/blob/sp.14/10%20-%20Apriori.ipynb (La versión que se encuentra en la página web no es compatible con Python 3. Con este notebook se encuentra una versión modificada para garantizar la compatibilidad.)\n",
    "\n",
    "Para su utilización lo primero que hay que hacer es cargar el archivo en el Notebook"
   ]
  },
  {
   "cell_type": "code",
   "execution_count": 1,
   "metadata": {},
   "outputs": [],
   "source": [
    "import apriori"
   ]
  },
  {
   "cell_type": "markdown",
   "metadata": {},
   "source": [
    "Inicialmente el algoritmo se puede evaluar con el conjunto de datos utilizado de ejemplo en el texto "
   ]
  },
  {
   "cell_type": "code",
   "execution_count": 2,
   "metadata": {},
   "outputs": [],
   "source": [
    "dataset = [['Pan', 'Leche'],\n",
    "           ['Pan', 'Pañales', 'Cerveza', 'Huevos'],\n",
    "           ['Leche', 'Pañales', 'Cerveza', 'Cola'],\n",
    "           ['Leche', 'Pan', 'Pañales', 'Cerveza'],\n",
    "           ['Pañales', 'Pan', 'Leche', 'Cola'],\n",
    "           ['Pan', 'Leche', 'Pañales'],\n",
    "           ['Pan', 'Cola']]"
   ]
  },
  {
   "cell_type": "code",
   "execution_count": 3,
   "metadata": {},
   "outputs": [
    {
     "name": "stdout",
     "output_type": "stream",
     "text": [
      "{Pañales}:  sup = 0.714\n",
      "{Pan}:  sup = 0.857\n",
      "{Leche}:  sup = 0.714\n",
      "{Pañales, Leche}:  sup = 0.571\n",
      "{Pañales, Pan}:  sup = 0.571\n",
      "{Pan, Leche}:  sup = 0.571\n"
     ]
    }
   ],
   "source": [
    "F, soporte = apriori.apriori(dataset, min_support=0.55, verbose = True)"
   ]
  },
  {
   "cell_type": "code",
   "execution_count": 4,
   "metadata": {},
   "outputs": [
    {
     "name": "stdout",
     "output_type": "stream",
     "text": [
      "{Leche} ---> {Pañales}:  conf = 0.8, sup = 0.571\n",
      "{Pañales} ---> {Leche}:  conf = 0.8, sup = 0.571\n",
      "{Pañales} ---> {Pan}:  conf = 0.8, sup = 0.571\n",
      "{Leche} ---> {Pan}:  conf = 0.8, sup = 0.571\n"
     ]
    }
   ],
   "source": [
    "H = apriori.generate_rules(F, soporte, min_confidence=0.75, verbose = True)"
   ]
  },
  {
   "cell_type": "markdown",
   "metadata": {},
   "source": [
    "## FP-Growth\n",
    "El algoritmo FP- Growth se encuentra disponible en el paquete pyfpgrowth que no forma parte de la instalación estándar de Anaconda, por lo que ha de instalarse antes de usarla. Para esto se ha de ejecutar en la terminal el comando\n",
    "\n",
    "    pip install pyfpgrowth"
   ]
  },
  {
   "cell_type": "code",
   "execution_count": 5,
   "metadata": {},
   "outputs": [],
   "source": [
    "import pyfpgrowth"
   ]
  },
  {
   "cell_type": "code",
   "execution_count": 6,
   "metadata": {},
   "outputs": [
    {
     "data": {
      "text/plain": [
       "{('Leche',): 5,\n",
       " ('Leche', 'Pan'): 4,\n",
       " ('Pan',): 6,\n",
       " ('Pan', 'Pañales'): 4,\n",
       " ('Pañales',): 5}"
      ]
     },
     "execution_count": 6,
     "metadata": {},
     "output_type": "execute_result"
    }
   ],
   "source": [
    "patterns = pyfpgrowth.find_frequent_patterns(dataset, 4)\n",
    "patterns"
   ]
  },
  {
   "cell_type": "code",
   "execution_count": 7,
   "metadata": {},
   "outputs": [
    {
     "data": {
      "text/plain": [
       "{('Leche',): (('Pan',), 0.8), ('Pañales',): (('Pan',), 0.8)}"
      ]
     },
     "execution_count": 7,
     "metadata": {},
     "output_type": "execute_result"
    }
   ],
   "source": [
    "rules = pyfpgrowth.generate_association_rules(patterns, 0.75)\n",
    "rules"
   ]
  }
 ],
 "metadata": {
  "kernelspec": {
   "display_name": "Python 3",
   "language": "python",
   "name": "python3"
  },
  "language_info": {
   "codemirror_mode": {
    "name": "ipython",
    "version": 3
   },
   "file_extension": ".py",
   "mimetype": "text/x-python",
   "name": "python",
   "nbconvert_exporter": "python",
   "pygments_lexer": "ipython3",
   "version": "3.6.3"
  }
 },
 "nbformat": 4,
 "nbformat_minor": 2
}
