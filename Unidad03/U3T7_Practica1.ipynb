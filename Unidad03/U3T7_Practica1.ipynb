{
 "cells": [
  {
   "cell_type": "markdown",
   "metadata": {},
   "source": [
    "## Unidad 6: Caso práctico\n",
    "\n",
    "En el archivo “groceries.csv” se recogen los datos de las transacciones recogidas durante un mes en una tienda de comestibles (los datos han sido extraídos del paquete de R arules). En cada una de las filas de este archivo se encuentra una lista de artículos correspondiente a un ticket de caja.\n",
    "\n",
    "A partir de estos datos obtener la lista de artículos que tiene un soporte mínimo de 0,15 utilizando tanto el algoritmo apriori como FP-Growth. Posteriormente obtener las reglas de asociación que se pueden deducir de este conjunto de datos con un soporte mínimo de 0,05 y confianza de 0,25.\n"
   ]
  },
  {
   "cell_type": "code",
   "execution_count": 52,
   "metadata": {},
   "outputs": [
    {
     "name": "stdout",
     "output_type": "stream",
     "text": [
      "Using matplotlib backend: Qt5Agg\n",
      "Populating the interactive namespace from numpy and matplotlib\n",
      "                  0\n",
      "count          9835\n",
      "unique         7011\n",
      "top     canned beer\n",
      "freq            260\n",
      "['tropical fruit,yogurt,coffee']\n"
     ]
    }
   ],
   "source": [
    "# Preparamos el entorno\n",
    "%pylab\n",
    "%matplotlib inline\n",
    "%config InlineBackend.figure_format = 'retina'\n",
    "\n",
    "# importamos las librerias\n",
    "import pandas as pd  # Python Data Analysis Library\n",
    "\n",
    "# Leemos el fichero\n",
    "Groceries_data = pd.DataFrame.from_csv('groceries.csv', sep=';', index_col = False, header = None)\n",
    "print(Groceries_data.describe())\n",
    "Groceries_list = Groceries_data.values.tolist()\n",
    "Groceries_list_split = []\n",
    "print(Groceries_list[1])\n",
    "for elem in Groceries_list:\n",
    "    Groceries_list_split.append((elem[0].split(',')))\n",
    "    # print (elem[0].split(','))"
   ]
  },
  {
   "cell_type": "markdown",
   "metadata": {},
   "source": [
    "#### Usamos metodo apriori "
   ]
  },
  {
   "cell_type": "code",
   "execution_count": 53,
   "metadata": {},
   "outputs": [
    {
     "name": "stdout",
     "output_type": "stream",
     "text": [
      "Inicio\n",
      "{soda}:  sup = 0.174\n",
      "{rolls/buns}:  sup = 0.184\n",
      "{other vegetables}:  sup = 0.193\n",
      "{whole milk}:  sup = 0.256\n",
      "Fin\n"
     ]
    }
   ],
   "source": [
    "import apriori\n",
    "\n",
    "# help(apriori)\n",
    "\n",
    "print('Inicio')\n",
    "Ap = apriori.apriori(Groceries_list_split, min_support = 0.15, verbose = True)\n",
    "print('Fin')"
   ]
  },
  {
   "cell_type": "code",
   "execution_count": 56,
   "metadata": {},
   "outputs": [
    {
     "data": {
      "text/plain": [
       "{('other vegetables',): 1903,\n",
       " ('rolls/buns',): 1809,\n",
       " ('soda',): 1715,\n",
       " ('whole milk',): 2513}"
      ]
     },
     "execution_count": 56,
     "metadata": {},
     "output_type": "execute_result"
    }
   ],
   "source": [
    "import pyfpgrowth\n",
    "import math\n",
    "\n",
    "num_tickets = len(Groceries_list_split)\n",
    "support_threshold = math.ceil(num_tickets * 0.15)\n",
    "support_threshold\n",
    "pyfpgrowth.find_frequent_patterns(Groceries_list_split, support_threshold)"
   ]
  },
  {
   "cell_type": "code",
   "execution_count": null,
   "metadata": {
    "collapsed": true
   },
   "outputs": [],
   "source": []
  }
 ],
 "metadata": {
  "kernelspec": {
   "display_name": "Python 3",
   "language": "python",
   "name": "python3"
  },
  "language_info": {
   "codemirror_mode": {
    "name": "ipython",
    "version": 3
   },
   "file_extension": ".py",
   "mimetype": "text/x-python",
   "name": "python",
   "nbconvert_exporter": "python",
   "pygments_lexer": "ipython3",
   "version": "3.6.3"
  }
 },
 "nbformat": 4,
 "nbformat_minor": 2
}
