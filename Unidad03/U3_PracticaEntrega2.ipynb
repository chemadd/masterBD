{
 "cells": [
  {
   "cell_type": "markdown",
   "metadata": {},
   "source": [
    "Crea un conjunto de datos utilizando el siguiente código:\n",
    "\n",
    "trX = np.linspace(-1, 1, 101)\n",
    "\n",
    "trY = np.linspace(-1, 1, 101)\n",
    "\n",
    "for i in range(len(trY)):\n",
    "\n",
    "trY[i] = math.log(1 + 0.5 * abs(trX[i])) + trX[i] / 3 + np.random.randn() * 0.033\n",
    "\n",
    "Ahora, utiliza Theano para obtener los parámetros w_0 y w_1 del siguiente modelo:\n",
    "\n",
    "y%3Dlog(1%26plus%3Bw_%7Bo%7D%20%5Cleft%20%7Cx%20%5Cright%20%7C%20)%26plus%3Bw_%7B1%7D%20x&size=12\n",
    "\n",
    "utilizando los datos generados anteriormente."
   ]
  }
 ],
 "metadata": {
  "kernelspec": {
   "display_name": "Python 3",
   "language": "python",
   "name": "python3"
  },
  "language_info": {
   "codemirror_mode": {
    "name": "ipython",
    "version": 3
   },
   "file_extension": ".py",
   "mimetype": "text/x-python",
   "name": "python",
   "nbconvert_exporter": "python",
   "pygments_lexer": "ipython3",
   "version": "3.6.3"
  }
 },
 "nbformat": 4,
 "nbformat_minor": 2
}
