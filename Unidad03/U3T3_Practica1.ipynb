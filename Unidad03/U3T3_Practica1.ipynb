{
 "cells": [
  {
   "cell_type": "markdown",
   "metadata": {},
   "source": [
    "Construir un modelo que estime la calidad de los vinos en función de propiedades físico-químicas."
   ]
  },
  {
   "cell_type": "markdown",
   "metadata": {},
   "source": [
    "Preparamos el entorno\n",
    "Creamos un arbol de decision para estimar la columna de calidad:\n",
    "1. Elegir el conjunto de entrenamiento\n",
    "2. Elegir el modelo e implementarlo, usando el conjunto de entrenamiento\n",
    "3. Probarlo con los datos de test y evaluar la bondad del modelo."
   ]
  },
  {
   "cell_type": "code",
   "execution_count": 8,
   "metadata": {},
   "outputs": [
    {
     "name": "stdout",
     "output_type": "stream",
     "text": [
      "Using matplotlib backend: Qt5Agg\n",
      "Populating the interactive namespace from numpy and matplotlib\n"
     ]
    }
   ],
   "source": [
    "%pylab\n",
    "%matplotlib inline\n",
    "\n",
    "%config InlineBackend.figure_format = 'retina'"
   ]
  },
  {
   "cell_type": "code",
   "execution_count": 24,
   "metadata": {},
   "outputs": [
    {
     "name": "stdout",
     "output_type": "stream",
     "text": [
      "1.0\n",
      "0.620408163265\n",
      "0.620408163265\n"
     ]
    }
   ],
   "source": [
    "import pandas as pd\n",
    "from sklearn.model_selection import train_test_split\n",
    "# Probaremos usando modelos de arboles de decision\n",
    "from sklearn.tree import DecisionTreeClassifier\n",
    "from sklearn.metrics import accuracy_score\n",
    "\n",
    "WinQua_df = pd.DataFrame.from_csv('winequality-white.csv', header=0, sep=';')\n",
    "\n",
    "# print(WinQua_df)\n",
    "# Separamos las variables independientes de la dependiente y generamos el conjunto de datos de test:\n",
    "y = WinQua_df.pop('quality')\n",
    "# print(y)\n",
    "# print(WinQua_df)\n",
    "X_train, X_test, y_train, y_test = train_test_split(WinQua_df, y)\n",
    "\n",
    "# Creamos el modelo:\n",
    "ClasifModel = DecisionTreeClassifier(criterion='gini')\n",
    "ClasifModel.fit(X_train, y_train)\n",
    "\n",
    "ClasifModel_pred = ClasifModel.predict(X_test)\n",
    "\n",
    "print(ClasifModel.score(X_train, y_train))\n",
    "print(ClasifModel.score(X_test, y_test))\n",
    "\n",
    "# print(ClasifModel.decision_path(X_train))\n",
    "print (accuracy_score(y_test,ClasifModel_pred))\n"
   ]
  },
  {
   "cell_type": "markdown",
   "metadata": {},
   "source": []
  }
 ],
 "metadata": {
  "kernelspec": {
   "display_name": "Python 3",
   "language": "python",
   "name": "python3"
  },
  "language_info": {
   "codemirror_mode": {
    "name": "ipython",
    "version": 3
   },
   "file_extension": ".py",
   "mimetype": "text/x-python",
   "name": "python",
   "nbconvert_exporter": "python",
   "pygments_lexer": "ipython3",
   "version": "3.6.3"
  }
 },
 "nbformat": 4,
 "nbformat_minor": 2
}
