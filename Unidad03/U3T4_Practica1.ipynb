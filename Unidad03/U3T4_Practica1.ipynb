{
 "cells": [
  {
   "cell_type": "markdown",
   "metadata": {},
   "source": [
    "# U3T4_Practica1: Analisis leche mamiferos\n",
    "En el archivo “mammals.csv” se encuentra una lista de mamíferos y los constituyentes de su leche. A partir de esta información, segmenta los mamíferos sobre la base de los constituyentes de la leche y obtén los valores promedios de la leche para cada grupo de animales."
   ]
  },
  {
   "cell_type": "code",
   "execution_count": 18,
   "metadata": {},
   "outputs": [
    {
     "name": "stdout",
     "output_type": "stream",
     "text": [
      "Using matplotlib backend: Qt5Agg\n",
      "Populating the interactive namespace from numpy and matplotlib\n",
      "           water  protein  fat  lactose   ash\n",
      "name                                         \n",
      "Horse       90.1      2.6  1.0      6.9  0.35\n",
      "Orangutan   88.5      1.4  3.5      6.0  0.24\n",
      "Monkey      88.4      2.2  2.7      6.4  0.18\n",
      "Donkey      90.3      1.7  1.4      6.2  0.40\n",
      "Hippo       90.4      0.6  4.5      4.4  0.10\n",
      "           water    protein        fat   lactose        ash\n",
      "count  25.000000  25.000000  25.000000  25.00000  25.000000\n",
      "mean   78.184000   6.212000  10.308000   4.13200   0.829200\n",
      "std    12.817913   3.652547  10.517997   1.83183   0.473787\n",
      "min    44.900000   0.600000   1.000000   0.00000   0.100000\n",
      "25%    71.300000   3.000000   3.400000   2.70000   0.530000\n",
      "50%    82.000000   5.900000   6.300000   4.70000   0.800000\n",
      "75%    87.700000   9.700000  13.100000   5.60000   0.930000\n",
      "max    90.400000  12.300000  42.000000   6.90000   2.300000\n",
      "Index(['Horse', 'Orangutan', 'Monkey', 'Donkey', 'Hippo', 'Camel', 'Bison',\n",
      "       'Buffalo', 'Guinea Pig', 'Cat', 'Fox', 'Llama', 'Mule', 'Pig', 'Zebra',\n",
      "       'Sheep', 'Dog', 'Elephant', 'Rabbit', 'Rat', 'Deer', 'Reindeer',\n",
      "       'Whale', 'Seal', 'Dolphin'],\n",
      "      dtype='object', name='name')\n",
      "Index(['water', 'protein', 'fat', 'lactose', 'ash'], dtype='object')\n"
     ]
    }
   ],
   "source": [
    "# Preparamos el entorno\n",
    "%pylab\n",
    "%matplotlib inline\n",
    "%config InlineBackend.figure_format = 'retina'\n",
    "\n",
    "# importamos las librerias\n",
    "import pandas as pd  # Python Data Analysis Library\n",
    "\n",
    "# Leemos el fichero\n",
    "Mammals_df = pd.DataFrame.from_csv('mammals.csv', header=0, sep=',')\n",
    "print(Mammals_df.head())\n",
    "print(Mammals_df.describe())\n",
    "print(Mammals_df.index)\n",
    "print(Mammals_df.columns)"
   ]
  },
  {
   "cell_type": "code",
   "execution_count": 19,
   "metadata": {},
   "outputs": [
    {
     "name": "stdout",
     "output_type": "stream",
     "text": [
      "[[ -1.56985906e+01  -1.39058496e+00   7.82581340e-01   7.47084047e-01\n",
      "   -1.33717528e-01]\n",
      " [ -1.30372695e+01  -3.12358309e+00   1.67151769e-01  -2.95465290e-02\n",
      "   -6.83039642e-02]\n",
      " [ -1.33675188e+01  -2.14965354e+00   6.64859300e-01   3.17401154e-01\n",
      "   -2.35370288e-01]\n",
      " [ -1.56804409e+01  -2.23478548e+00   3.13362572e-01   6.90593985e-03\n",
      "    1.27959262e-02]\n",
      " [ -1.38422285e+01  -4.27494575e+00  -2.11706012e+00  -8.27257519e-01\n",
      "   -1.13450191e-01]\n",
      " [ -1.20343122e+01  -8.82668741e-01  -5.51613356e-01  -4.14908809e-01\n",
      "    9.94820711e-02]\n",
      " [ -1.23543973e+01   9.67478406e-01   9.71171630e-01   5.59668451e-02\n",
      "    1.01227717e-01]\n",
      " [ -4.58120797e+00   7.74851266e-02  -5.27507797e-01   5.32301408e-01\n",
      "   -2.87917365e-02]\n",
      " [ -4.43213218e+00   2.07405031e+00  -1.51830061e+00  -7.92486405e-01\n",
      "   -2.27966815e-01]\n",
      " [ -4.49053073e+00   4.50548757e+00  -6.65531197e-01   1.28000865e+00\n",
      "   -6.18160398e-01]\n",
      " [ -5.34637933e+00   1.62352149e+00   7.74902328e-01   1.71041379e-01\n",
      "   -2.69434021e-02]\n",
      " [ -1.12550697e+01  -3.98371719e-01   5.68152489e-01   2.09898459e-02\n",
      "    1.49024320e-01]\n",
      " [ -1.50885432e+01  -1.97267946e+00  -1.96645229e-01  -3.87212198e-01\n",
      "    3.33022341e-02]\n",
      " [ -6.56105856e+00   2.45686250e+00  -2.62010696e-01  -5.70995820e-01\n",
      "    2.95304627e-02]\n",
      " [ -1.01509103e+01  -1.78785894e+00  -5.54163752e-02  -1.17766994e-01\n",
      "    1.94474530e-01]\n",
      " [ -5.48264820e+00   5.18399021e-01   4.34966163e-01  -1.16344596e-01\n",
      "    8.43572003e-02]\n",
      " [  1.54051650e+00   3.54476331e+00   6.34123018e-02  -4.56192498e-01\n",
      "   -7.94348670e-02]\n",
      " [  9.66429085e+00  -4.58417040e+00   1.78774802e+00   7.01739583e-01\n",
      "    3.14883117e-01]\n",
      " [  8.17965834e+00   5.63203515e+00  -4.91209402e-01  -2.32009198e-01\n",
      "    6.86873473e-01]\n",
      " [  6.31586698e+00   2.65054315e+00   7.20409469e-01  -1.80104833e-01\n",
      "    2.00794381e-01]\n",
      " [  1.60073267e+01   1.68944147e+00  -1.09362579e-01   4.22689597e-01\n",
      "    1.97869222e-01]\n",
      " [  1.72750981e+01   1.87047253e+00   5.55291429e-02   3.79833343e-01\n",
      "    1.66922790e-01]\n",
      " [  1.79775087e+01   1.90895912e+00  -1.02160405e+00   1.04607428e-01\n",
      "   -4.26097314e-01]\n",
      " [  4.48249598e+01  -5.33563090e+00  -2.40524315e+00   5.35675733e-01\n",
      "    1.65515505e-01]\n",
      " [  4.16180119e+01  -1.38456619e+00   2.61725804e+00  -1.15141956e+00\n",
      "   -4.78816445e-01]]\n"
     ]
    }
   ],
   "source": [
    "# Obtencion de los Componentes Principales (PCA)\n",
    "from sklearn.decomposition import PCA\n",
    "\n",
    "# Lo obtenemos para todas las columnas de datos del fichero.\n",
    "pca = PCA(n_components = len(Mammals_df.columns))\n",
    "x_pca = pca.fit_transform(Mammals_df)\n",
    "\n",
    "print (x_pca)"
   ]
  },
  {
   "cell_type": "code",
   "execution_count": null,
   "metadata": {
    "collapsed": true
   },
   "outputs": [],
   "source": []
  }
 ],
 "metadata": {
  "kernelspec": {
   "display_name": "Python 3",
   "language": "python",
   "name": "python3"
  },
  "language_info": {
   "codemirror_mode": {
    "name": "ipython",
    "version": 3
   },
   "file_extension": ".py",
   "mimetype": "text/x-python",
   "name": "python",
   "nbconvert_exporter": "python",
   "pygments_lexer": "ipython3",
   "version": "3.6.3"
  }
 },
 "nbformat": 4,
 "nbformat_minor": 2
}
