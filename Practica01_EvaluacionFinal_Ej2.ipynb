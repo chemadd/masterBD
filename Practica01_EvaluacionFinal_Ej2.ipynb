{
 "cells": [
  {
   "cell_type": "code",
   "execution_count": 30,
   "metadata": {},
   "outputs": [
    {
     "data": {
      "text/plain": [
       "['__builtins__',\n",
       " '__cached__',\n",
       " '__doc__',\n",
       " '__file__',\n",
       " '__loader__',\n",
       " '__name__',\n",
       " '__package__',\n",
       " '__spec__',\n",
       " 'obtenerSentimientos',\n",
       " 'obtenerSentimientosTweets',\n",
       " 'obtenerTweetsConTexto']"
      ]
     },
     "execution_count": 30,
     "metadata": {},
     "output_type": "execute_result"
    }
   ],
   "source": [
    "import Practica01_EvaluacionFinal_Funciones\n",
    "dir (Practica01_EvaluacionFinal_Funciones)"
   ]
  },
  {
   "cell_type": "code",
   "execution_count": 38,
   "metadata": {},
   "outputs": [
    {
     "name": "stdout",
     "output_type": "stream",
     "text": [
      "897\n"
     ]
    },
    {
     "ename": "NameError",
     "evalue": "name 'sort' is not defined",
     "output_type": "error",
     "traceback": [
      "\u001b[0;31m---------------------------------------------------------------------------\u001b[0m",
      "\u001b[0;31mNameError\u001b[0m                                 Traceback (most recent call last)",
      "\u001b[0;32m<ipython-input-38-4001b35b20f2>\u001b[0m in \u001b[0;36m<module>\u001b[0;34m()\u001b[0m\n\u001b[1;32m     69\u001b[0m         \u001b[0mpalabrasSinSentimientos\u001b[0m\u001b[0;34m[\u001b[0m\u001b[0mpalabra\u001b[0m\u001b[0;34m]\u001b[0m \u001b[0;34m=\u001b[0m \u001b[0mpalabrasMediaSentimientos\u001b[0m\u001b[0;34m[\u001b[0m\u001b[0mpalabra\u001b[0m\u001b[0;34m]\u001b[0m\u001b[0;34m\u001b[0m\u001b[0m\n\u001b[1;32m     70\u001b[0m \u001b[0;34m\u001b[0m\u001b[0m\n\u001b[0;32m---> 71\u001b[0;31m \u001b[0msort\u001b[0m\u001b[0;34m(\u001b[0m\u001b[0mpalabrasSinSentimientos\u001b[0m\u001b[0;34m)\u001b[0m\u001b[0;34m\u001b[0m\u001b[0m\n\u001b[0m\u001b[1;32m     72\u001b[0m \u001b[0mprint\u001b[0m\u001b[0;34m(\u001b[0m\u001b[0mlen\u001b[0m\u001b[0;34m(\u001b[0m\u001b[0mpalabrasSinSentimientos\u001b[0m\u001b[0;34m)\u001b[0m\u001b[0;34m)\u001b[0m\u001b[0;34m\u001b[0m\u001b[0m\n",
      "\u001b[0;31mNameError\u001b[0m: name 'sort' is not defined"
     ]
    }
   ],
   "source": [
    "import Practica01_EvaluacionFinal_Funciones as funcP1\n",
    "\n",
    "def limpiaPalabra(palabra):\n",
    "    # Proceso que elimina de las palabras los caracteres extraños y devuelve palabra 'correctas'\n",
    "    # Pretende ser algo simple, se podria aplicar limpieza con la libreria unidecode y mayor logica al control\n",
    "    # de eliminacion de signos de puntuacion\n",
    "    # Tambien se podria devolver una palabra vacia para indicar que la cadena de caracteres no es una palabra\n",
    "    # valida\n",
    "    palabraLimpia = palabra.replace('#','')\n",
    "    palabraLimpia = palabraLimpia.replace('!','')\n",
    "    palabraLimpia = palabraLimpia.replace('?','')\n",
    "    palabraLimpia = palabraLimpia.replace('.','')\n",
    "    palabraLimpia = palabraLimpia.replace(',','')\n",
    "    palabraLimpia = palabraLimpia.replace('(','')\n",
    "    palabraLimpia = palabraLimpia.replace(')','')\n",
    "    \n",
    "    return palabraLimpia.lower()\n",
    "\n",
    "def obtenerPalabrasSentimientosTweets(ficheroSentimientos, ficheroTweets, idioma):\n",
    "    import Practica01_EvaluacionFinal_Funciones as funcP1\n",
    "    # Devuelve un diccionario asociando a cada palabra\n",
    "    # un valor calculado de los sentimientos de los tweets en los que aparece.\n",
    "    # El calculo es la media (redondeada) de los sentimientos de los tweets en \n",
    "    # los que aparecen\n",
    "    resultado = funcP1.obtenerSentimientosTweets(ficheroSentimientos, ficheroTweets, idioma)\n",
    "    # Buscamos las palabras de tweets que no aparecen en sentimientos.\n",
    "    # En resultado tenemos, para cada tweet, su texto, sentimiento y las palabras que \n",
    "    # han generado ese sentimiento. Asociamos a cada palabra que no este en 'valoracion'\n",
    "    # el valor del sentimiento del tweet. Puesto que se va a hacer la media,\n",
    "    # se incrementa el valor del sentimiento de cada una y tambien el contador de\n",
    "    # apariciones, para poder hacer la media al final de su valoracion\n",
    "    valoracionPalabras = dict()\n",
    "    for idTweet in resultado:\n",
    "        # 1. Descomponemos las palabras del texto del tweet\n",
    "        listaPalabras = resultado[idTweet]['texto'].split()\n",
    "        # 2. A la valoracion de cada palabra le incrementamos el sentimiento del tweet\n",
    "        #    Incrementamos el contador de veces que aparece cada palabra para hacer\n",
    "        #    la media al final.\n",
    "        for palabra in listaPalabras:\n",
    "            palabraTransform = limpiaPalabra(palabra)\n",
    "            if palabraTransform in valoracionPalabras.keys():\n",
    "                valoracionPalabras[palabraTransform]['valoracion'] = valoracionPalabras[palabraTransform]['valoracion'] + resultado[idTweet]['sentimiento']\n",
    "                valoracionPalabras[palabraTransform]['conteo'] = valoracionPalabras[palabraTransform]['conteo'] + 1\n",
    "            elif len(palabra) > 1:\n",
    "                # Evitamos valorar signos de puntuacion o caracteres aislados\n",
    "                valoracionPalabras[palabraTransform] = {'valoracion':resultado[idTweet]['sentimiento'], 'conteo':1}             \n",
    "    # Ahora que ya tenemos la lista de palabras, obtenemos la media de sus sentimientos\n",
    "    mediaPalabras = dict()\n",
    "    for palabra in valoracionPalabras:\n",
    "        if valoracionPalabras[palabra]['conteo'] == 0:\n",
    "            mediaPalabras[palabra] = 0\n",
    "        else:\n",
    "            mediaPalabras[palabra] = round(valoracionPalabras[palabra]['valoracion']/valoracionPalabras[palabra]['conteo'])\n",
    "    return mediaPalabras\n",
    "\n",
    "ficheroTweets = '/home/chema/MasterBI/practicas/01.Fundamentos/salida_tweets.txt'\n",
    "ficheroSentimientos = '/home/chema/MasterBI/practicas/01.Fundamentos/Sentimientos.txt'\n",
    "# Puesto que los sentimientos estan asociados a palabras en ingles, \n",
    "# buscamos solo en los tweets en ingles.\n",
    "idioma = 'en'\n",
    "\n",
    "palabrasMediaSentimientos = obtenerPalabrasSentimientosTweets(ficheroSentimientos, ficheroTweets, idioma)\n",
    "print(len(palabrasMediaSentimientos))\n",
    "# Una vez que tenemos la valoracion de cada palabra, eliminamos aquellas para las que ya teniamos sentimiento:\n",
    "sentimientos = funcP1.obtenerSentimientos(ficheroSentimientos)\n",
    "palabrasSinSentimientos = dict()\n",
    "for palabra in palabrasMediaSentimientos:\n",
    "    if palabra not in sentimientos.keys():\n",
    "        palabrasSinSentimientos[palabra] = palabrasMediaSentimientos[palabra] \n",
    "\n",
    "print(len(palabrasSinSentimientos))"
   ]
  },
  {
   "cell_type": "code",
   "execution_count": null,
   "metadata": {
    "collapsed": true
   },
   "outputs": [],
   "source": []
  }
 ],
 "metadata": {
  "kernelspec": {
   "display_name": "Python 3",
   "language": "python",
   "name": "python3"
  },
  "language_info": {
   "codemirror_mode": {
    "name": "ipython",
    "version": 3
   },
   "file_extension": ".py",
   "mimetype": "text/x-python",
   "name": "python",
   "nbconvert_exporter": "python",
   "pygments_lexer": "ipython3",
   "version": "3.6.3"
  }
 },
 "nbformat": 4,
 "nbformat_minor": 2
}
