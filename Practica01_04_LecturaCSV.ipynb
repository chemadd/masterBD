{
 "cells": [
  {
   "cell_type": "code",
   "execution_count": 31,
   "metadata": {},
   "outputs": [
    {
     "data": {
      "text/plain": [
       "['Dialect',\n",
       " 'DictReader',\n",
       " 'DictWriter',\n",
       " 'Error',\n",
       " 'OrderedDict',\n",
       " 'QUOTE_ALL',\n",
       " 'QUOTE_MINIMAL',\n",
       " 'QUOTE_NONE',\n",
       " 'QUOTE_NONNUMERIC',\n",
       " 'Sniffer',\n",
       " 'StringIO',\n",
       " '_Dialect',\n",
       " '__all__',\n",
       " '__builtins__',\n",
       " '__cached__',\n",
       " '__doc__',\n",
       " '__file__',\n",
       " '__loader__',\n",
       " '__name__',\n",
       " '__package__',\n",
       " '__spec__',\n",
       " '__version__',\n",
       " 'excel',\n",
       " 'excel_tab',\n",
       " 'field_size_limit',\n",
       " 'get_dialect',\n",
       " 'list_dialects',\n",
       " 're',\n",
       " 'reader',\n",
       " 'register_dialect',\n",
       " 'unix_dialect',\n",
       " 'unregister_dialect',\n",
       " 'writer']"
      ]
     },
     "execution_count": 31,
     "metadata": {},
     "output_type": "execute_result"
    }
   ],
   "source": [
    "import csv\n",
    "dir(csv)"
   ]
  },
  {
   "cell_type": "code",
   "execution_count": 12,
   "metadata": {},
   "outputs": [],
   "source": [
    "def frecuenciasColumna(fichero, columna):\n",
    "    import csv\n",
    "    pitchingPost = open(fichero)\n",
    "    leerCSVOrigen = csv.reader(pitchingPost)\n",
    "    lecturaDatos = list(leerCSVOrigen)\n",
    "    # Buscamos el indice donde se encuentra la columna sobre la que calcular la frecuencia\n",
    "    indiceAcumular = lecturaDatos[0].index(columna)\n",
    "    # Quitamos la primera lista, que contiene los titulos\n",
    "    lecturaDatos.pop(0)\n",
    "    # Creamos el diccionario para contener el resultado\n",
    "    resultado = dict()\n",
    "    resultado[columna] = 'frecuencia'\n",
    "    for linea in lecturaDatos:\n",
    "        indiceContador = resultado.get(linea[indiceAcumular],0)\n",
    "        # print (indiceContador)\n",
    "        indiceContador = indiceContador + 1\n",
    "        resultado[linea[indiceAcumular]] = indiceContador\n",
    "    return resultado\n",
    "\n",
    "def creaAcumColumna (ficheroEntrada, ficheroSalida, columnaAcum):\n",
    "    import csv\n",
    "    diccionario = frecuenciasColumna(ficheroEntrada, columnaAcum)\n",
    "    fichSalida = open(ficheroSalida, 'w')\n",
    "    escritorSalida = csv.writer(fichSalida)\n",
    "    for clave, valor in diccionario.items():\n",
    "        # print(clave, valor)\n",
    "        escritorSalida.writerow([clave,valor])\n",
    "    fichSalida.close()\n",
    "    \n",
    "def ordenaPorColumna(ficheroEntrada, ficheroSalida):\n",
    "    import csv\n",
    "    pitchingPost = open(ficheroEntrada)\n",
    "    leerCSVOrigen = csv.reader(pitchingPost)\n",
    "    lecturaDatos = list(leerCSVOrigen)\n",
    "    lecturaDatos.sort()\n",
    "    fichSalida = open(ficheroSalida, 'w')\n",
    "    escritorSalida = csv.writer(fichSalida)\n",
    "    for fila in lecturaDatos:\n",
    "        escritorSalida.writerow(fila)\n",
    "    fichSalida.close()\n",
    "\n",
    "creaAcumColumna('/home/chema/Descargas/PitchingPost.csv', '/home/chema/Descargas/AcumAnnos.csv', 'yearID')\n",
    "creaAcumColumna('/home/chema/Descargas/PitchingPost.csv', '/home/chema/Descargas/AcumJugadores.csv', 'playerID')\n",
    "ordenaPorColumna('/home/chema/Descargas/PitchingPost.csv','/home/chema/Descargas/Ordenado.csv')"
   ]
  }
 ],
 "metadata": {
  "kernelspec": {
   "display_name": "Python 3",
   "language": "python",
   "name": "python3"
  },
  "language_info": {
   "codemirror_mode": {
    "name": "ipython",
    "version": 3
   },
   "file_extension": ".py",
   "mimetype": "text/x-python",
   "name": "python",
   "nbconvert_exporter": "python",
   "pygments_lexer": "ipython3",
   "version": "3.6.3"
  }
 },
 "nbformat": 4,
 "nbformat_minor": 2
}
