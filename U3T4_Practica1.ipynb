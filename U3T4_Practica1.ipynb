{
 "cells": [
  {
   "cell_type": "markdown",
   "metadata": {},
   "source": [
    "# U3T4_Practica1: Analisis leche mamiferos\n",
    "En el archivo “mammals.csv” se encuentra una lista de mamíferos y los constituyentes de su leche. A partir de esta información, segmenta los mamíferos sobre la base de los constituyentes de la leche y obtén los valores promedios de la leche para cada grupo de animales."
   ]
  },
  {
   "cell_type": "code",
   "execution_count": 4,
   "metadata": {},
   "outputs": [
    {
     "name": "stdout",
     "output_type": "stream",
     "text": [
      "Using matplotlib backend: Qt5Agg\n",
      "Populating the interactive namespace from numpy and matplotlib\n",
      "           water  protein  fat  lactose   ash\n",
      "name                                         \n",
      "Horse       90.1      2.6  1.0      6.9  0.35\n",
      "Orangutan   88.5      1.4  3.5      6.0  0.24\n",
      "Monkey      88.4      2.2  2.7      6.4  0.18\n",
      "Donkey      90.3      1.7  1.4      6.2  0.40\n",
      "Hippo       90.4      0.6  4.5      4.4  0.10\n",
      "           water    protein        fat   lactose        ash\n",
      "count  25.000000  25.000000  25.000000  25.00000  25.000000\n",
      "mean   78.184000   6.212000  10.308000   4.13200   0.829200\n",
      "std    12.817913   3.652547  10.517997   1.83183   0.473787\n",
      "min    44.900000   0.600000   1.000000   0.00000   0.100000\n",
      "25%    71.300000   3.000000   3.400000   2.70000   0.530000\n",
      "50%    82.000000   5.900000   6.300000   4.70000   0.800000\n",
      "75%    87.700000   9.700000  13.100000   5.60000   0.930000\n",
      "max    90.400000  12.300000  42.000000   6.90000   2.300000\n",
      "Index(['Horse', 'Orangutan', 'Monkey', 'Donkey', 'Hippo', 'Camel', 'Bison',\n",
      "       'Buffalo', 'Guinea Pig', 'Cat', 'Fox', 'Llama', 'Mule', 'Pig', 'Zebra',\n",
      "       'Sheep', 'Dog', 'Elephant', 'Rabbit', 'Rat', 'Deer', 'Reindeer',\n",
      "       'Whale', 'Seal', 'Dolphin'],\n",
      "      dtype='object', name='name')\n",
      "Index(['water', 'protein', 'fat', 'lactose', 'ash'], dtype='object')\n",
      "['water', 'protein', 'fat', 'lactose', 'ash']\n",
      "            water  protein   fat  lactose   ash\n",
      "name                                           \n",
      "Horse        90.1      2.6   1.0      6.9  0.35\n",
      "Orangutan    88.5      1.4   3.5      6.0  0.24\n",
      "Monkey       88.4      2.2   2.7      6.4  0.18\n",
      "Donkey       90.3      1.7   1.4      6.2  0.40\n",
      "Hippo        90.4      0.6   4.5      4.4  0.10\n",
      "Camel        87.7      3.5   3.4      4.8  0.71\n",
      "Bison        86.9      4.8   1.7      5.7  0.90\n",
      "Buffalo      82.1      5.9   7.9      4.7  0.78\n",
      "Guinea Pig   81.9      7.4   7.2      2.7  0.85\n",
      "Cat          81.6     10.1   6.3      4.4  0.75\n",
      "Fox          81.6      6.6   5.9      4.9  0.93\n",
      "Llama        86.5      3.9   3.2      5.6  0.80\n",
      "Mule         90.0      2.0   1.8      5.5  0.47\n",
      "Pig          82.8      7.1   5.1      3.7  1.10\n",
      "Zebra        86.2      3.0   4.8      5.3  0.70\n",
      "Sheep        82.0      5.6   6.4      4.7  0.91\n",
      "Dog          76.3      9.3   9.5      3.0  1.20\n",
      "Elephant     70.7      3.6  17.6      5.6  0.63\n",
      "Rabbit       71.3     12.3  13.1      1.9  2.30\n",
      "Rat          72.5      9.2  12.6      3.3  1.40\n",
      "Deer         65.9     10.4  19.7      2.6  1.40\n",
      "Reindeer     64.8     10.7  20.3      2.5  1.40\n",
      "Whale        64.8     11.1  21.2      1.6  0.85\n",
      "Seal         46.4      9.7  42.0      0.0  0.85\n",
      "Dolphin      44.9     10.6  34.9      0.9  0.53\n"
     ]
    }
   ],
   "source": [
    "# Preparamos el entorno\n",
    "%pylab\n",
    "%matplotlib inline\n",
    "%config InlineBackend.figure_format = 'retina'\n",
    "\n",
    "# importamos las librerias\n",
    "import pandas as pd  # Python Data Analysis Library\n",
    "\n",
    "# Leemos el fichero\n",
    "Mammals_df = pd.DataFrame.from_csv('mammals.csv', header=0, sep=',')\n",
    "print(Mammals_df.head())\n",
    "print(Mammals_df.describe())\n",
    "print(Mammals_df.index)\n",
    "print(Mammals_df.columns)\n",
    "print(list(Mammals_df))\n",
    "print(Mammals_df)"
   ]
  },
  {
   "cell_type": "code",
   "execution_count": 36,
   "metadata": {},
   "outputs": [
    {
     "name": "stdout",
     "output_type": "stream",
     "text": [
      "Varianza explicada por la compontente water 0.96677974106\n",
      "Varianza explicada por la compontente protein 0.0278110551481\n",
      "Varianza explicada por la compontente fat 0.00411366411334\n",
      "Varianza explicada por la compontente lactose 0.00104730786496\n",
      "Varianza explicada por la compontente ash 0.00024823181399\n"
     ]
    }
   ],
   "source": [
    "# Obtencion de los Componentes Principales (PCA)\n",
    "from sklearn.decomposition import PCA\n",
    "\n",
    "# Lo obtenemos para todas las columnas de datos del fichero.\n",
    "pca = PCA(n_components = len(Mammals_df.columns))\n",
    "x_pca = pca.fit_transform(Mammals_df)\n",
    "ix = 0\n",
    "for columna in Mammals_df.columns:\n",
    "    print('Varianza explicada por la compontente', Mammals_df.columns[ix], pca.explained_variance_ratio_[ix])\n",
    "    ix = ix + 1"
   ]
  },
  {
   "cell_type": "markdown",
   "metadata": {},
   "source": [
    "La mayor parte de la varianza la explica el componente water, de modo que podria simplificarse el modelo. De hecho con las variables water y protein se explica el 99.4% de la varianza"
   ]
  },
  {
   "cell_type": "markdown",
   "metadata": {},
   "source": [
    "## Clusterizacion de los datos\n",
    "Clusterizamos usando los distintos algoritmos"
   ]
  },
  {
   "cell_type": "markdown",
   "metadata": {},
   "source": [
    "### K-Means"
   ]
  },
  {
   "cell_type": "code",
   "execution_count": 45,
   "metadata": {},
   "outputs": [
    {
     "name": "stdout",
     "output_type": "stream",
     "text": [
      "[0.6250735975612236, 0.65625017008767306, 0.6002302679964463, 0.59722703956947609, 0.61017817678730768, 0.55225753899671615, 0.4481528408673604, 0.42310440377202524, 0.36758667685153368, 0.33250185082464667, 0.32593211734719879, 0.32339859556947514, 0.29249460427064122]\n"
     ]
    },
    {
     "data": {
      "text/plain": [
       "Text(0.5,1,'Mammals')"
      ]
     },
     "execution_count": 45,
     "metadata": {},
     "output_type": "execute_result"
    },
    {
     "data": {
      "image/png": "[encoded data removed]",
      "text/plain": [
       "<matplotlib.figure.Figure at 0x7ffb79f0be48>"
      ]
     },
     "metadata": {
      "image/png": {
       "height": 263,
       "width": 380
      }
     },
     "output_type": "display_data"
    }
   ],
   "source": [
    "# En primer lugar es necesario buscar el numero de clusteres\n",
    "# Usamos el metodo de la Silhouette: Buscamos el valor maximo de las distancias aplicando iterativamente K-Means\n",
    "# para tener el numero de clusteres optimo\n",
    "from sklearn.metrics import silhouette_score\n",
    "from sklearn.cluster import KMeans\n",
    "\n",
    "Silhouette_Mammals_dist =[]\n",
    "Max_Clusters = 15\n",
    "\n",
    "for numClus in range(2, Max_Clusters):\n",
    "    kmean = KMeans(n_clusters = numClus, random_state = 1).fit(Mammals_df)\n",
    "    Silhouette_Mammals_dist.append(silhouette_score(Mammals_df, kmean.labels_))\n",
    "\n",
    "print(Silhouette_Mammals_dist)\n",
    "plot(range(2, Max_Clusters), Silhouette_Mammals_dist)\n",
    "title('Mammals')"
   ]
  },
  {
   "cell_type": "markdown",
   "metadata": {},
   "source": [
    "Se observa que el maximo esta en 3 clusteres. Obtenemos el K-Means con 3 clusteres"
   ]
  },
  {
   "cell_type": "code",
   "execution_count": 101,
   "metadata": {},
   "outputs": [
    {
     "data": {
      "text/html": [
       "<div>\n",
       "<style>\n",
       "    .dataframe thead tr:only-child th {\n",
       "        text-align: right;\n",
       "    }\n",
       "\n",
       "    .dataframe thead th {\n",
       "        text-align: left;\n",
       "    }\n",
       "\n",
       "    .dataframe tbody tr th {\n",
       "        vertical-align: top;\n",
       "    }\n",
       "</style>\n",
       "<table border=\"1\" class=\"dataframe\">\n",
       "  <thead>\n",
       "    <tr style=\"text-align: right;\">\n",
       "      <th></th>\n",
       "      <th>water</th>\n",
       "      <th>protein</th>\n",
       "    </tr>\n",
       "    <tr>\n",
       "      <th>name</th>\n",
       "      <th></th>\n",
       "      <th></th>\n",
       "    </tr>\n",
       "  </thead>\n",
       "  <tbody>\n",
       "    <tr>\n",
       "      <th>Horse</th>\n",
       "      <td>90.1</td>\n",
       "      <td>2.6</td>\n",
       "    </tr>\n",
       "    <tr>\n",
       "      <th>Orangutan</th>\n",
       "      <td>88.5</td>\n",
       "      <td>1.4</td>\n",
       "    </tr>\n",
       "    <tr>\n",
       "      <th>Monkey</th>\n",
       "      <td>88.4</td>\n",
       "      <td>2.2</td>\n",
       "    </tr>\n",
       "    <tr>\n",
       "      <th>Donkey</th>\n",
       "      <td>90.3</td>\n",
       "      <td>1.7</td>\n",
       "    </tr>\n",
       "    <tr>\n",
       "      <th>Hippo</th>\n",
       "      <td>90.4</td>\n",
       "      <td>0.6</td>\n",
       "    </tr>\n",
       "    <tr>\n",
       "      <th>Camel</th>\n",
       "      <td>87.7</td>\n",
       "      <td>3.5</td>\n",
       "    </tr>\n",
       "    <tr>\n",
       "      <th>Bison</th>\n",
       "      <td>86.9</td>\n",
       "      <td>4.8</td>\n",
       "    </tr>\n",
       "    <tr>\n",
       "      <th>Buffalo</th>\n",
       "      <td>82.1</td>\n",
       "      <td>5.9</td>\n",
       "    </tr>\n",
       "    <tr>\n",
       "      <th>Guinea Pig</th>\n",
       "      <td>81.9</td>\n",
       "      <td>7.4</td>\n",
       "    </tr>\n",
       "    <tr>\n",
       "      <th>Cat</th>\n",
       "      <td>81.6</td>\n",
       "      <td>10.1</td>\n",
       "    </tr>\n",
       "    <tr>\n",
       "      <th>Fox</th>\n",
       "      <td>81.6</td>\n",
       "      <td>6.6</td>\n",
       "    </tr>\n",
       "    <tr>\n",
       "      <th>Llama</th>\n",
       "      <td>86.5</td>\n",
       "      <td>3.9</td>\n",
       "    </tr>\n",
       "    <tr>\n",
       "      <th>Mule</th>\n",
       "      <td>90.0</td>\n",
       "      <td>2.0</td>\n",
       "    </tr>\n",
       "    <tr>\n",
       "      <th>Pig</th>\n",
       "      <td>82.8</td>\n",
       "      <td>7.1</td>\n",
       "    </tr>\n",
       "    <tr>\n",
       "      <th>Zebra</th>\n",
       "      <td>86.2</td>\n",
       "      <td>3.0</td>\n",
       "    </tr>\n",
       "    <tr>\n",
       "      <th>Sheep</th>\n",
       "      <td>82.0</td>\n",
       "      <td>5.6</td>\n",
       "    </tr>\n",
       "    <tr>\n",
       "      <th>Dog</th>\n",
       "      <td>76.3</td>\n",
       "      <td>9.3</td>\n",
       "    </tr>\n",
       "    <tr>\n",
       "      <th>Elephant</th>\n",
       "      <td>70.7</td>\n",
       "      <td>3.6</td>\n",
       "    </tr>\n",
       "    <tr>\n",
       "      <th>Rabbit</th>\n",
       "      <td>71.3</td>\n",
       "      <td>12.3</td>\n",
       "    </tr>\n",
       "    <tr>\n",
       "      <th>Rat</th>\n",
       "      <td>72.5</td>\n",
       "      <td>9.2</td>\n",
       "    </tr>\n",
       "    <tr>\n",
       "      <th>Deer</th>\n",
       "      <td>65.9</td>\n",
       "      <td>10.4</td>\n",
       "    </tr>\n",
       "    <tr>\n",
       "      <th>Reindeer</th>\n",
       "      <td>64.8</td>\n",
       "      <td>10.7</td>\n",
       "    </tr>\n",
       "    <tr>\n",
       "      <th>Whale</th>\n",
       "      <td>64.8</td>\n",
       "      <td>11.1</td>\n",
       "    </tr>\n",
       "    <tr>\n",
       "      <th>Seal</th>\n",
       "      <td>46.4</td>\n",
       "      <td>9.7</td>\n",
       "    </tr>\n",
       "    <tr>\n",
       "      <th>Dolphin</th>\n",
       "      <td>44.9</td>\n",
       "      <td>10.6</td>\n",
       "    </tr>\n",
       "  </tbody>\n",
       "</table>\n",
       "</div>"
      ],
      "text/plain": [
       "            water  protein\n",
       "name                      \n",
       "Horse        90.1      2.6\n",
       "Orangutan    88.5      1.4\n",
       "Monkey       88.4      2.2\n",
       "Donkey       90.3      1.7\n",
       "Hippo        90.4      0.6\n",
       "Camel        87.7      3.5\n",
       "Bison        86.9      4.8\n",
       "Buffalo      82.1      5.9\n",
       "Guinea Pig   81.9      7.4\n",
       "Cat          81.6     10.1\n",
       "Fox          81.6      6.6\n",
       "Llama        86.5      3.9\n",
       "Mule         90.0      2.0\n",
       "Pig          82.8      7.1\n",
       "Zebra        86.2      3.0\n",
       "Sheep        82.0      5.6\n",
       "Dog          76.3      9.3\n",
       "Elephant     70.7      3.6\n",
       "Rabbit       71.3     12.3\n",
       "Rat          72.5      9.2\n",
       "Deer         65.9     10.4\n",
       "Reindeer     64.8     10.7\n",
       "Whale        64.8     11.1\n",
       "Seal         46.4      9.7\n",
       "Dolphin      44.9     10.6"
      ]
     },
     "execution_count": 101,
     "metadata": {},
     "output_type": "execute_result"
    },
    {
     "data": {
      "image/png": "[encoded data removed]",
      "text/plain": [
       "<matplotlib.figure.Figure at 0x7ffb7894fc88>"
      ]
     },
     "metadata": {
      "image/png": {
       "height": 250,
       "width": 370
      }
     },
     "output_type": "display_data"
    }
   ],
   "source": [
    "Mammals_df.boxplot()\n",
    "Mammals_df.filter(items=['water','protein'])"
   ]
  },
  {
   "cell_type": "code",
   "execution_count": 49,
   "metadata": {},
   "outputs": [
    {
     "name": "stdout",
     "output_type": "stream",
     "text": [
      "[0 0 0 0 0 0 0 0 0 0 0 0 0 0 0 0 1 1 1 1 1 1 1 2 2]\n",
      "Cluster 0\n",
      "Index(['Horse', 'Orangutan', 'Monkey', 'Donkey', 'Hippo', 'Camel', 'Bison',\n",
      "       'Buffalo', 'Guinea Pig', 'Cat', 'Fox', 'Llama', 'Mule', 'Pig', 'Zebra',\n",
      "       'Sheep'],\n",
      "      dtype='object', name='name')\n",
      "Cluster 1\n",
      "Index(['Dog', 'Elephant', 'Rabbit', 'Rat', 'Deer', 'Reindeer', 'Whale'], dtype='object', name='name')\n",
      "Cluster 2\n",
      "Index(['Seal', 'Dolphin'], dtype='object', name='name')\n",
      "[[ 90.1    2.6    1.     6.9    0.35]\n",
      " [ 88.5    1.4    3.5    6.     0.24]\n",
      " [ 88.4    2.2    2.7    6.4    0.18]\n",
      " [ 90.3    1.7    1.4    6.2    0.4 ]\n",
      " [ 90.4    0.6    4.5    4.4    0.1 ]\n",
      " [ 87.7    3.5    3.4    4.8    0.71]\n",
      " [ 86.9    4.8    1.7    5.7    0.9 ]\n",
      " [ 82.1    5.9    7.9    4.7    0.78]\n",
      " [ 81.9    7.4    7.2    2.7    0.85]\n",
      " [ 81.6   10.1    6.3    4.4    0.75]\n",
      " [ 81.6    6.6    5.9    4.9    0.93]\n",
      " [ 86.5    3.9    3.2    5.6    0.8 ]\n",
      " [ 90.     2.     1.8    5.5    0.47]\n",
      " [ 82.8    7.1    5.1    3.7    1.1 ]\n",
      " [ 86.2    3.     4.8    5.3    0.7 ]\n",
      " [ 82.     5.6    6.4    4.7    0.91]\n",
      " [ 76.3    9.3    9.5    3.     1.2 ]\n",
      " [ 70.7    3.6   17.6    5.6    0.63]\n",
      " [ 71.3   12.3   13.1    1.9    2.3 ]\n",
      " [ 72.5    9.2   12.6    3.3    1.4 ]\n",
      " [ 65.9   10.4   19.7    2.6    1.4 ]\n",
      " [ 64.8   10.7   20.3    2.5    1.4 ]\n",
      " [ 64.8   11.1   21.2    1.6    0.85]\n",
      " [ 46.4    9.7   42.     0.     0.85]\n",
      " [ 44.9   10.6   34.9    0.9    0.53]]\n",
      "[[ 86.0625       4.275        4.175        5.11875      0.635625  ]\n",
      " [ 69.47142857   9.51428571  16.28571429   2.92857143   1.31142857]\n",
      " [ 45.65        10.15        38.45         0.45         0.69      ]]\n"
     ]
    },
    {
     "data": {
      "text/plain": [
       "<matplotlib.collections.PathCollection at 0x7f14ed074a90>"
      ]
     },
     "execution_count": 49,
     "metadata": {},
     "output_type": "execute_result"
    },
    {
     "data": {
      "image/png": "[encoded data removed]",
      "text/plain": [
       "<matplotlib.figure.Figure at 0x7f14ed0de7f0>"
      ]
     },
     "metadata": {
      "image/png": {
       "height": 250,
       "width": 370
      }
     },
     "output_type": "display_data"
    }
   ],
   "source": [
    "# Ejecutamos la clusterizacion y graficamos\n",
    "from sklearn.cluster import KMeans\n",
    "from matplotlib.colors import ListedColormap\n",
    "\n",
    "# Clusterizacion\n",
    "# NOTA: Se podria buscar de forma automatica el indice con maximo de indice Silhouette\n",
    "Kmean_Mammals = KMeans(n_clusters = 3, random_state = 1).fit(Mammals_df)\n",
    "Kmean_MammalsClusters = Kmean_Mammals.predict(Mammals_df)\n",
    "print(Kmean_MammalsClusters)\n",
    "\n",
    "for i in range(0, max(Kmean_MammalsClusters) + 1):\n",
    "    print (\"Cluster\", i)\n",
    "    print (Mammals_df.index[Kmean_MammalsClusters == i])\n",
    "\n",
    "#Graficamos los clusteres y sus centros\n",
    "# Dibujamos los elementos de cada cluster\n",
    "# Es necesario transformarlo en array para poder trabajar con scatter:\n",
    "X = np.asarray(Mammals_df)\n",
    "print(X)\n",
    "mapa_color = ListedColormap(['#FF0000', '#00FF00', '#0000FF'])\n",
    "scatter(X[:, 0], X[:, 1],c=Kmean_MammalsClusters, cmap = mapa_color)\n",
    "\n",
    "# Centros\n",
    "print(Kmean_Mammals.cluster_centers_)\n",
    "scatter(Kmean_Mammals.cluster_centers_[:, 0], Kmean_Mammals.cluster_centers_[:, 1], \n",
    "        c=[0,1,2], cmap = mapa_color, marker='*', s= 150)"
   ]
  },
  {
   "cell_type": "code",
   "execution_count": null,
   "metadata": {
    "collapsed": true
   },
   "outputs": [],
   "source": []
  }
 ],
 "metadata": {
  "kernelspec": {
   "display_name": "Python 3",
   "language": "python",
   "name": "python3"
  },
  "language_info": {
   "codemirror_mode": {
    "name": "ipython",
    "version": 3
   },
   "file_extension": ".py",
   "mimetype": "text/x-python",
   "name": "python",
   "nbconvert_exporter": "python",
   "pygments_lexer": "ipython3",
   "version": "3.6.3"
  }
 },
 "nbformat": 4,
 "nbformat_minor": 2
}
