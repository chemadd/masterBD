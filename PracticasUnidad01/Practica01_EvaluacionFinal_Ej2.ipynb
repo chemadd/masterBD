{
 "cells": [
  {
   "cell_type": "code",
   "execution_count": 1,
   "metadata": {},
   "outputs": [
    {
     "data": {
      "text/plain": [
       "['__builtins__',\n",
       " '__cached__',\n",
       " '__doc__',\n",
       " '__file__',\n",
       " '__loader__',\n",
       " '__name__',\n",
       " '__package__',\n",
       " '__spec__',\n",
       " 'limpiaPalabra',\n",
       " 'obtenerPalabrasSentimientosTweets',\n",
       " 'obtenerSentimientos',\n",
       " 'obtenerSentimientosTweets',\n",
       " 'obtenerTweetsConTexto']"
      ]
     },
     "execution_count": 1,
     "metadata": {},
     "output_type": "execute_result"
    }
   ],
   "source": [
    "import Practica01_EvaluacionFinal_Funciones\n",
    "dir (Practica01_EvaluacionFinal_Funciones)"
   ]
  },
  {
   "cell_type": "code",
   "execution_count": 2,
   "metadata": {},
   "outputs": [
    {
     "name": "stdout",
     "output_type": "stream",
     "text": [
      "{'@brenamae_': 0, 'whale': 0, 'slap': 0, 'your': -1, 'fin': 0, 'and': 2, 'tell': 0, 'you': 1, 'one': 3, 'last': 0, 'time:': 0, 'go': 0, 'awhale': 0, 'rt': 1, '@byunghns:': 0, '틴탑': 0, 'so': 2, 'much': 1, '쉽지않아': 0, 'is': 1, 'going': 0, 'to': 2, 'be': 2, '@hailee_danielsx': -3, \"i'm\": -1, 'not': 1, 'mean': 0, 'cuz': -3, 'ya': -3, 'believe': 2, '@baileymac02:': 0, \"can't\": 2, 'wait': 2, 'am': 0, 'playing': 0, '@soccersix': 0, 'at': 0, 'the': 1, 'london': 0, 'soccerdome': 0, 'on': 1, 'sunday': 0, '26th': 0, 'october': 0, 'tickets': 0, 'selling': 0, 'fast:': 0, 'http://tco/c6i…': 0, 'vince': 0, 'staples': 0, 'cold': 0, '@nashgrier:': 2, 'birthday': 3, 'of': 1, 'my': 1, 'friends': 6, '@jackgilinsky': 6, 'till': 6, \"you're\": 6, 'out': 2, 'in': 0, 'la': 6, 'have': 2, '@youtube': 2, 'video': 1, 'from': 1, '@jordzcreations': 2, 'http://tco/yjhzcimxhg': 2, 'rated': 2, 'players': 2, 'fifa15': 2, 'messi': 2, 'ronaldo': 2, '&amp;': 2, 'ibra': 2, '@kirkjtorrance:': 0, \"cat's\": 0, 'bag': 0, '\"@williamjhague:': 0, 'giving': 0, 'scotland': 0, 'more': 2, 'powers': 0, 'if': 1, 'it': 0, 'votes': 0, 'government': 0, 'policy\"': 0, 'http://tco/…': 0, '@nasa:': 0, 'roiling': 0, 'flows': 0, 'lava': 0, 'holuhraun': 0, 'field': 0, 'seen': 0, 'by': 1, '@nasa_landsat': 0, 'iceland:': 0, 'http://tco/3ogfkivcfv': 0, 'earthrightnow': 0, 'http://tco…': 0, '@pbirdly:': 0, 'just': 0, 'setting': 0, 'up': 1, 'twitter': 1, 'myfirsttweet': 0, '@disneywords:': 1, 'are': 1, 'as': 2, 'real': -1, 'them': 0, 'sky': 1, 'sea': 1, '–peter': 1, 'pan': 1, 'disney': 1, '@aurinth': 2, 'think': 1, \"it's\": 2, 'possible': 2, 'sometimes': 2, 'scenes': 2, 'that': -1, 'can': 1, 'work': 0, 'long': 2, \"they're\": 2, 'bookended': 2, 'some': 1, 'sort': 2, 'development': 2, '@jackalltimelow:': -2, 'cab': -2, '@5sos': -2, 'came': -2, 'radio': -2, 'too': -1, '@soldierrofallah:': 0, 'shaytaan': 0, 'makes': 0, 'sin': 0, 'attractive': 0, 'us': 0, '@singlejocoffee': 2, 'do': 0, 'everything': 2, 'rebellious': 2, 'poet': 2, '@pointlessblog:': 0, \"who's\": 0, 'ready': 0, 'for': 1, 'horror': 0, 'gaming': 0, 'chancho': 0, '🐷🐷🐷': 0, 'http://tco/lmytpeilgf': 0, '“@djzeeti:': 0, 'twitpic': 0, 'selfie': 0, 'will': 1, 'get': 0, 'alot': 0, 'retweets”': 0, 'http://tco/zlk66haeoo': 0, 'xxx': 0, 'vids:': 0, 'chick': 0, 'cameron': 0, 'hardcore': 0, 'teen': 0, 'sex': 0, 'porn': 0, 'followback': 0, 'itunes': 0, 'http://tco/sz4pcq4l6n': 0, 'need': 0, 'this': 2, 'trim': 1, 'can’t': 1, 'boarding': 1, 'plane': 1, 'looking': 2, 'yo': 0, 'dough': 0, 'why': 0, 'she': -2, 'hit': 0, 'idea': 3, \"we've\": 3, 'thought': 2, 'yet': -1, 'dominos': 3, 'sandwich': 2, 'http://tco/kyibyzw9av': 3, 'only': 0, 'could': 0, 'put': 0, 'thoughts': 0, 'into': 0, 'words': 0, '@elvinelol:': 0, 'world': 0, 'warcraft': 0, 'raiding': 0, 'lengths': 0, 'expansion': 0, 'pve': 0, 'http://tco/ikoke02heo': 0, '@faizamirza84:': 0, 'dr': 0, 'tuq:': 0, 'arab': 0, 'rs': 0, 'used': 0, 'daily': 0, 'corruption': 0, 'pakistan': 0, 'statusquovsoppressed': 0, '@cthagod:': -2, 'keep': -1, 'making': -2, 'talking': -2, 'people': 0, 'who': 1, \"don't\": 0, 'know': -1, 'what': -1, 'they': -1, 'about': -2, 'van': 0, 'morrison': 0, 'gloria': 0, '&lt;3': 0, '@euhanjung:': 0, '\"@salvado10903734:': 0, 'http://tco/bizbcq0qjr\"~': 0, 'greed~': 0, 'clothing': 0, 'shoes': 0, '&gt;&gt;': 0, 'champion': 0, 'textured': 0, 'dazzle': 0, \"men's\": 0, 'basketball': 0, 'shorts': 0, 'style': 0, '82619': 0, '048': 0, 'http://tco/5gsfqgmxvn': 0, 'http://tco/n99xgindgj': 0, '@aartic02:': 0, 'victory': 0, 'aap': 0, 'common': 0, 'onlyaap4delhi': 0, 'time': 0, 'someone': -1, 'when': -2, 'give': 0, 'any': -1, 'their': -1, '@connpost:': -3, 'milford': -3, 'school': -1, 'janitor': -3, 'leaving': -3, 'gifts': -3, 'notes': -3, 'student': -3, 'http://tco/rjv7hybufg': -3, '\"@pointlessblog:': 0, 'video\"': 0, 'body': -1, 'ur': -1, 'bud': -2, 'sneezing': -2, 'took': 0, 'test': 0, 'where': 0, 'answer': 0, 'question': 0, \"mozart's\": 0, 'dad': 0, '@louis_tomlinson:': 4, 'new': 2, 'album': 9, 'fireproof': 9, 'has': 4, 'been': 4, 'all': 9, 'hear': 9, 'loveeeee': 9, 'omg': 0, '😍😍😍': 0, '@onedirection:': 0, 'pre-order': 0, '1dalbumfour': 0, '1d': 0, 'store': 0, \"you'll\": 0, 'wrist': 0, 'band': 0, 'day': -1, 'release': 0, 'http://tco/tdx9ujdlgu': 0, 'htt…': 0, '@mugsy4fly': 2, 'but': 1, \"she's\": 2, 'famous': 2, 'personality': 2, 'over': 1, 'sarah': 2, 'palinwho': 2, 'really': 2, 'should': 1, 'run': 2, 'potus': 2, '@_helloitsjo': 0, 'lmaoo': 0, 'ok': 0, 'remeber': 0, '@themotherhood': 0, 'thx': 0, 'having': 2, 'unstoppablemoms': 0, '@world_images_:': 0, 'me': 1, 'little': 0, 'push': 0, 'http://tco/fpioaady2s': 0, 'ahhhhhh😍😍😍😍🙌😱😍😍😍': 0, 'http://tco/eadv1r3u4j': 0, '@chlldhoodruiner:': 0, 'jay': 0, '44': 0, 'beyoncé': 0, '32': 0, 'gonna': 0, 'stress': 0, 'cause': 0, 'bae': 0, 'starts': 0, '1st': 0, 'grade': 0, 'tomorrow': 0, '@ru_ru50': -6, 'beat': -6, '19': -6, 'times': -6, 'tonight': -6, '😉😏😘': -6, '@onlyxibest:': 2, '@lvbradshaw': 2, '@monarch544': 2, 'week': 2, 'wino': 2, \"that's\": -1, 'evening': -2, 'shift': -2, 'whole': -2, 'revolves': -2, 'around': -2, 'fast': 0, 'we’re': 2, 'very': 0, 'host': 2, \"tonight's\": 2, '“evening': 2, 'with': 0, 'mayor”': 2, 'event': 2, 'greystone': 2, 'mansion': 2, 'we': 1, 'forward': 2, 'seeing': 2, 'there': 2, 'turkey': 0, 'strawberry': 0, 'brie': 0, 'http://tco/kchkloo1jo': 0, 'http://tco/g4629m6ekc': 0, '@bufnewspreptalk:': 0, 'our': 0, 'preptalklive': 0, 'scoreboard': 0, 'page:': 0, \"today's\": 0, 'schedule': 0, 'which': 0, 'updated': 0, 'each': 0, 'night': 0, 'scores': 0, 'reported': 0, 'http://…': 0, 'iphone6plus': 0, 'idk': 0, 'though': 0, 'wrinkle': 0, 'late': 0, 'watches': 0, 'apple': 0, 'set': 0, 'its': 0, 'own': 0, 'minute': 0, 'early': 0, 'quartz:': 0, 'companywrinkle': 0, 't': 0, 'http://tco/lcszf8arxd': 0, '@chelseaborrelli:': 0, 'take': 0, 'back': 1, 'vaca': 0, 'http://tco/qr9viwrgpn': 0, '@yomaira98x': 3, 'dude': 1, 'how': 2, '@poetrypix:': 6, 'retweet': 4, 'tweet': 6, 'small': 6, 'lokai': 6, 'bracelet': 6, 'must': 6, 'following': 6, 'ends': 6, 'september': 3, '24th': 6, 'http://tco/c1lruasflg': 6, '@c_rivers24:': -1, '@calvinminds11': -1, 'honestly': -1, 'droiddia': 0, 'prime': 0, 'android': 0, 'flow': 0, 'chart': 0, 'apps': 0, 'http://tco/sq9a2lh1ab': 0, 'app': 0, '@lxmharuka': 0, '//': 0, 'yas': 0, 'wonder': 0, '@jessicafappit': 7, 'lunchtimevisual': 7, 'goes': 7, '@thequintavious': 0, 'talented': 0, 'kid': 0, '@glenisa10': 0, 'may': 0, 'using': 0, 'force': 0, 'than': 0, 'necessary': 0, '@spartacat1': 0, '@strykr916': 0, '@holdfastgames': 0, '*points': 0, 'laughs*': 0, ':p': 0, '@emmyrossum:': 0, 'gallaghers': 0, 'season5': 0, 'shameless': 0, 'http://tco/ypxgclqgl5': 0, '@easportsfifa': 0, '': 1, 'hurry': 0, 'upppp': 0, 'paint': 1, 'town': 1, 'weekend': 1, '@supercrawl': 1, 'it’s': 1, 'http://tco/2zz0z72zdz': 1, 'supercrawl2014': 1, 'http://tco/rsqpacfl77': 1, 'gr': 1, 'skywalk': 1, 'lakersthatdontwanttogetwet': 1, 'person': 0, 'world💕🌎🌻👯': 0, 'http://tco/nwuiihlu07': 0, 'headphones': 0, '😤😤': 0, 'being': 0, 'gay': 1, 'choice': 0, 'most': 0, 'including': 1, 'pt1': 1, '@peeweezzy': 0, 'exactly': 0, 'move': 0, 'would': 2, 'considered': 0, 'serious': 0, 'option': 0, 'fútbol': 0, 'stadium': 0, 'now😜': 0, 'things': -1, 'rt@youthh2o': 0, 'whats': 0, 'wellness': 0, 'essentials': 0, 'list': 0, 'energy': 0, 'immunity': 0, 'weighltoss': 0, 'skin': 0, 'glow': 0, 'fabchat': 0, 'http://tco/5ompe97lfe': 0, '@antoniofrench:': 0, 'alderman': 0, '@chriscarter3:': 0, 'did': 0, 'city': 0, 'st': 0, 'louis': 0, 'spend': 0, 'due': 0, 'ferguson': 0, 'unrest': 0, '@chiefslmpd:': 0, 'approximatel…': 0, '@fbjooohm:': 0, '@ajapplegatexxx': 0, 'zoey': 0, 'monroe': 0, '@julesjordan': 0, '@williamhnutsack': 0, 'squirt': 0, 'face': 0, '2014': 0, '😍😈🎥😍👅📷👌✌🔥👅💦💧💦💦💦💦': 0, 'http://tco/yz…': 0, \"i've\": 0, 'harvested': 0, '1134': 0, 'food': 0, 'http://tco/fcl9wuwr1s': 0, 'iphone': 0, 'iphonegames': 0, 'gameinsight': 0, '@mouthhugsanda7x:': 0, 'maybe': 0, 'home': 0, 'tap': 0, 'spot': 0, 'repeatedly': 0, 'relaxation': 0, 'preachers': 1, 'sign': 1, 'year': 1, 'willing': 1, \"i'll\": 1, 'again': 1, 'even': 0, 'johnny': 0, 'depp': 0, 'knows': 0, 'value': 0, 'an': 0, 'engagement': 0, 'ring': 0, 'http://tco/magkcntzki': 0, 'busy': -6, 'naked': -6, 'forest': -6, '@fierydaemon:': -6, \"haven't\": -6, 'spoken': -6, 'brother': -6, 'http://tco/3sqk6ilwq7': -4, 'job:': 0, 'job': 0, '10017': 0, 'leicester': 0, 'thursday': 0, 'sep': 0, '11th': 0, 'gplocumjobs': 0, 'https://tco/0kd0h7xw8y': 0, 'online': 0, 'now': 2, 'http://tco/khschu3jzz': 0, 'http://tco/5lltvlefu6': 0, '@oso_glodup:': 0, 'boy': 0, 'young': 0, 'thug': 0, 'snapped': 0, 'kevin': 0, 'gates': 0, 'gone': 0, 'other': 0, 'frozen': 0, 'girls': 0, 'anna': 0, 'elsa': 0, 'backpack': 0, '$999': 0, 'reg': 0, '$1999': 0, 'http://tco/n2qucmi008': 0, 'onlinedeals': 0, 'deal': 0, 'onlinedeal': 0, '@leoquotez:': 4, \"leo's\": 4, 'because': 4, 'boredom': 4, 'punishment': 4, 'honeydew': 0, 'indeed': 0, 'underrated': 0, '@m_d__ha': 0, '@rottentomatoes:': 0, 'pictures': 0, 'onceuponatime': 0, 'season': 0, '----&gt;': 0, 'http://tco/uodg3ndnah': 0, 'ouat': 0, '@onceabc': 0, 'http://tco/ydn1i0cvwi': 0, 'skit': 0, 'subscribe': 0, 'http://tco/kn58wsapal': 0, 'morning': 1, '@bieberannual:': 2, 'follow': 3, 'everyone': 3, 'retweets': 3, 'ever': 3, 'follows': 3, '@jeremiahtaylorr:': 3, '@meghannally': 3, '❤️❤️': 3, 'imysm': 3, 'found': 3, 'dropbox😂😂': 3, 'http://tco/nefzjvws6i': 3, 'every': 0, 'single': 3, 'come': 3, 'nicole': 0, 'moudaber': 0, 'mood': 2, '020': 0, '10-sep-2014': 0, 'http://tco/gcrpekphg6': 0, '@pplschamp2310': -2, 'least': -2, 'her': -2, 'count': -2, 'certainly': -2, 'caused': -2, 'club': -2, 'sonsofanarchy': -2, 'ryhmes': 0, 'tweeps': 0, '@hitsnothomework': 0, '@missmandii': 0, '@nourhanismail97': 0, 'mh': 0, 'lolo': 0, 'mesh': 0, 'hat3rfyhom': 0, '@tuiteiemoticons:': 0, '❄❄': 0, 'frio': 0, 'header': 0, '9/11': 0, '@beyonceexplicit': 0, 'hello': 0, 'beyonce': 0, '♥♥♥': 0, 'seriously': 0, 'boots': 0, 'mins': 0, '@sonjimmons:': 0, 'justin': 0, 'bieber': 0, 'http://tco/ymhw1kwrbf': 0, 'robbie': 6, '@arsenalfantv': 6, 'offer': 6, 'insight': 6, 'coverage': 6, 'mighty': 6, 'arsenal': 6, 'continue': 6, 'says': -3, 'gets': 0, '\"daddy': -3, 'got': -3, 'stroke': -3, 'dance\"': -3, 'hahahaha': -3, 'downstairs': 4, 'neighbros:': 4, '1:00': 4, 'pm': 4, 'wednesday': 4, 'generally': 4, 'upon': 4, 'meant': 4, 'turning': 4, 'try': 4, '@yungthanatos:': 0, '\"whatchu': 0, 'doing': 0, 'bro\"': 0, 'https://tco/alzxiglssr': 0, 'speed': 0, 'bumps': 0, 'let': 0, 'bring': 0, 'down': 1, 'regroup': 0, 'does': 0, 'maddie': 0, 'bajillion': 0, '5sos': 0, 'songs': 0, 'literally': 0, '@tfionash': 2, 'soooo': 2, \"it'…\": 2, '@eglobalinfo:': 0, 'eglobal': 0, 'coming': 0, 'soon': 0, 'http://tco/c6ngxqlvi1': 0, '@dantyre:': 0, 'inbound14': 0, 'tuesday': 0, 'parties': 0, 'http://tco/selgggfpdx': 0, '@katyperry:': -1, '@hernameisbanks': -1, 'debut': -1, 'record': -1, 'goddess': -1, 'today': -1, 'magnificent': -1, 'https://tco/ja42jyk9x7': -1, 'dontfuckwitha…': -1, 'sure': 0, 'were': 0, 'trying\"@botsboygeuk:@isphlyhoney': 0, ':will': 0, 'dotried': 0, 'after': 0, 'called': 0, 'guess': 0, 'hella': 0, '@tarunvijay:': 4, 'popularly': 4, 'known': 4, '\"mahakavi': 4, 'bharathiyar\"': 4, 'he': 4, 'wrote': 4, 'tamil': 4, 'language': 4, 'odes': 4, 'fighters': 4, 'tilak': 4, 'gan…': 4, '@9gag:': 3, 'depends': 3, 'hair': 3, 'looks': 3, '@jeremiahtolbert': 0, '@saladinahmed': 0, 'shoots': 0, 'jelly': 0, 'beans': 0, '@nksubs:': 2, 'leeteuk:': 2, 'yeaaa': 2, 'kangin:': 2, 'hyung': 2, 'sit': 2, 'heechul:': 2, 'friend': 2, '@gabriele_corno:': 0, 'history': 0, 'museum': 0, 'richard': 0, 'beresford': 0, 'harris': 0, 'architecture': 0, 'prospective': 0, 'http://tco/cwibisjqdr': 0, '@bestofcancer:': 0, 'needs': 0, 'waking': 2, 'gotta': 2, '❤️❤️❤️❤️❤️🙏🙏': 2, 'ffc': 0, \"ip's\": 0, 'symbaloo': 0, \"ozbirn's\": 0, 'google': 0, 'mix': 0, 'fcslearn': 0, 'ffcsoar': 0, 'alpartners': 0, '@ffcsoar': 0, 'http://tco/ub2wkowat8': 0}\n"
     ]
    }
   ],
   "source": [
    "import Practica01_EvaluacionFinal_Funciones as funcP1\n",
    "\n",
    "ficheroTweets = '/home/chema/MasterBI/practicas/01.Fundamentos/salida_tweets.txt'\n",
    "ficheroSentimientos = '/home/chema/MasterBI/practicas/01.Fundamentos/Sentimientos.txt'\n",
    "# Puesto que los sentimientos estan asociados a palabras en ingles, \n",
    "# buscamos solo en los tweets en ingles.\n",
    "idioma = 'en'\n",
    "\n",
    "palabrasMediaSentimientos = funcP1.obtenerPalabrasSentimientosTweets(ficheroSentimientos, ficheroTweets, idioma)\n",
    "# Una vez que tenemos la valoracion de cada palabra, eliminamos aquellas para las que ya teniamos sentimiento:\n",
    "sentimientos = funcP1.obtenerSentimientos(ficheroSentimientos)\n",
    "palabrasSinSentimientos = dict()\n",
    "for palabra in palabrasMediaSentimientos:\n",
    "    if palabra not in sentimientos.keys():\n",
    "        palabrasSinSentimientos[palabra] = palabrasMediaSentimientos[palabra] \n",
    "\n",
    "print(palabrasSinSentimientos)"
   ]
  },
  {
   "cell_type": "code",
   "execution_count": null,
   "metadata": {
    "collapsed": true
   },
   "outputs": [],
   "source": []
  }
 ],
 "metadata": {
  "kernelspec": {
   "display_name": "Python 3",
   "language": "python",
   "name": "python3"
  },
  "language_info": {
   "codemirror_mode": {
    "name": "ipython",
    "version": 3
   },
   "file_extension": ".py",
   "mimetype": "text/x-python",
   "name": "python",
   "nbconvert_exporter": "python",
   "pygments_lexer": "ipython3",
   "version": "3.6.3"
  }
 },
 "nbformat": 4,
 "nbformat_minor": 2
}
