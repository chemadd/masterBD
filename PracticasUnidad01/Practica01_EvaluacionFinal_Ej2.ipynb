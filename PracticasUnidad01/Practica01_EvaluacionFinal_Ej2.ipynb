{
 "cells": [
  {
   "cell_type": "code",
   "execution_count": 7,
   "metadata": {},
   "outputs": [
    {
     "ename": "ModuleNotFoundError",
     "evalue": "No module named 'Practica01_EvaluacionFinal_Ej1'",
     "output_type": "error",
     "traceback": [
      "\u001b[0;31m---------------------------------------------------------------------------\u001b[0m",
      "\u001b[0;31mModuleNotFoundError\u001b[0m                       Traceback (most recent call last)",
      "\u001b[0;32m<ipython-input-7-fea23289aa21>\u001b[0m in \u001b[0;36m<module>\u001b[0;34m()\u001b[0m\n\u001b[0;32m----> 1\u001b[0;31m \u001b[0;32mimport\u001b[0m \u001b[0mPractica01_EvaluacionFinal_Ej1\u001b[0m \u001b[0;32mas\u001b[0m \u001b[0mfunciones\u001b[0m\u001b[0;34m\u001b[0m\u001b[0m\n\u001b[0m",
      "\u001b[0;31mModuleNotFoundError\u001b[0m: No module named 'Practica01_EvaluacionFinal_Ej1'"
     ]
    }
   ],
   "source": [
    "import Practica01_EvaluacionFinal_Ej1 as funciones"
   ]
  },
  {
   "cell_type": "code",
   "execution_count": 5,
   "metadata": {},
   "outputs": [
    {
     "ename": "NameError",
     "evalue": "name 'obtenerSentimientosTweets' is not defined",
     "output_type": "error",
     "traceback": [
      "\u001b[0;31m---------------------------------------------------------------------------\u001b[0m",
      "\u001b[0;31mNameError\u001b[0m                                 Traceback (most recent call last)",
      "\u001b[0;32m<ipython-input-5-99a3e024960b>\u001b[0m in \u001b[0;36m<module>\u001b[0;34m()\u001b[0m\n\u001b[1;32m      5\u001b[0m \u001b[0midioma\u001b[0m \u001b[0;34m=\u001b[0m \u001b[0;34m'en'\u001b[0m\u001b[0;34m\u001b[0m\u001b[0m\n\u001b[1;32m      6\u001b[0m \u001b[0;34m\u001b[0m\u001b[0m\n\u001b[0;32m----> 7\u001b[0;31m \u001b[0mresultado\u001b[0m \u001b[0;34m=\u001b[0m \u001b[0mobtenerSentimientosTweets\u001b[0m\u001b[0;34m(\u001b[0m\u001b[0mficheroSentimientos\u001b[0m\u001b[0;34m,\u001b[0m \u001b[0mficheroTweets\u001b[0m\u001b[0;34m,\u001b[0m \u001b[0midioma\u001b[0m\u001b[0;34m)\u001b[0m\u001b[0;34m\u001b[0m\u001b[0m\n\u001b[0m",
      "\u001b[0;31mNameError\u001b[0m: name 'obtenerSentimientosTweets' is not defined"
     ]
    }
   ],
   "source": [
    "ficheroTweets = '/home/chema/MasterBI/practicas/01.Fundamentos/salida_tweets.txt'\n",
    "ficheroSentimientos = '/home/chema/MasterBI/practicas/01.Fundamentos/Sentimientos.txt'\n",
    "# Puesto que los sentimientos estan asociados a palabras en ingles, \n",
    "# buscamos solo en los tweets en ingles.\n",
    "idioma = 'en'\n",
    "\n",
    "resultado = obtenerSentimientosTweets(ficheroSentimientos, ficheroTweets, idioma)"
   ]
  },
  {
   "cell_type": "code",
   "execution_count": null,
   "metadata": {
    "collapsed": true
   },
   "outputs": [],
   "source": []
  }
 ],
 "metadata": {
  "kernelspec": {
   "display_name": "Python 3",
   "language": "python",
   "name": "python3"
  },
  "language_info": {
   "codemirror_mode": {
    "name": "ipython",
    "version": 3
   },
   "file_extension": ".py",
   "mimetype": "text/x-python",
   "name": "python",
   "nbconvert_exporter": "python",
   "pygments_lexer": "ipython3",
   "version": "3.6.3"
  }
 },
 "nbformat": 4,
 "nbformat_minor": 2
}
