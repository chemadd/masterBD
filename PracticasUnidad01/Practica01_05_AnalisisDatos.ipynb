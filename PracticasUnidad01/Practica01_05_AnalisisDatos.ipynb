{
 "cells": [
  {
   "cell_type": "code",
   "execution_count": 6,
   "metadata": {},
   "outputs": [
    {
     "data": {
      "text/plain": [
       "Euskadi      200\n",
       "Murcia       200\n",
       "Madrid       -80\n",
       "Barcelona    100\n",
       "Zaragoza     -50\n",
       "dtype: int64"
      ]
     },
     "execution_count": 6,
     "metadata": {},
     "output_type": "execute_result"
    }
   ],
   "source": [
    "import numpy as num\n",
    "import pandas as pan\n",
    "from pandas import *\n",
    "\n",
    "SerSueldos_Hombres = Series([2500,1800,1900,2000,2100],index=['Euskadi','Murcia','Madrid','Barcelona','Zaragoza'])\n",
    "SerSueldos_Mujeres = Series([2300,1600,1980,1900,2150],index=['Euskadi','Murcia','Madrid','Barcelona','Zaragoza'])\n",
    "\n",
    "SerSueldos_Diferencia = SerSueldos_Hombres - SerSueldos_Mujeres\n",
    "MascaraDiferencia  = (SerSueldos_Diferencia>100)\n",
    "SerSueldos_Diferencia\n"
   ]
  },
  {
   "cell_type": "code",
   "execution_count": 7,
   "metadata": {},
   "outputs": [
    {
     "data": {
      "text/plain": [
       "Euskadi    200\n",
       "Murcia     200\n",
       "dtype: int64"
      ]
     },
     "execution_count": 7,
     "metadata": {},
     "output_type": "execute_result"
    }
   ],
   "source": [
    "SerSueldos_Diferencia[MascaraDiferencia]"
   ]
  },
  {
   "cell_type": "code",
   "execution_count": null,
   "metadata": {
    "collapsed": true
   },
   "outputs": [],
   "source": []
  }
 ],
 "metadata": {
  "kernelspec": {
   "display_name": "Python 3",
   "language": "python",
   "name": "python3"
  },
  "language_info": {
   "codemirror_mode": {
    "name": "ipython",
    "version": 3
   },
   "file_extension": ".py",
   "mimetype": "text/x-python",
   "name": "python",
   "nbconvert_exporter": "python",
   "pygments_lexer": "ipython3",
   "version": "3.6.3"
  }
 },
 "nbformat": 4,
 "nbformat_minor": 2
}
