{
 "cells": [
  {
   "cell_type": "code",
   "execution_count": 16,
   "metadata": {},
   "outputs": [
    {
     "data": {
      "text/plain": [
       "['JSONDecodeError',\n",
       " 'JSONDecoder',\n",
       " 'JSONEncoder',\n",
       " '__all__',\n",
       " '__author__',\n",
       " '__builtins__',\n",
       " '__cached__',\n",
       " '__doc__',\n",
       " '__file__',\n",
       " '__loader__',\n",
       " '__name__',\n",
       " '__package__',\n",
       " '__path__',\n",
       " '__spec__',\n",
       " '__version__',\n",
       " '_default_decoder',\n",
       " '_default_encoder',\n",
       " 'codecs',\n",
       " 'decoder',\n",
       " 'detect_encoding',\n",
       " 'dump',\n",
       " 'dumps',\n",
       " 'encoder',\n",
       " 'load',\n",
       " 'loads',\n",
       " 'scanner']"
      ]
     },
     "execution_count": 16,
     "metadata": {},
     "output_type": "execute_result"
    }
   ],
   "source": [
    "import json\n",
    "dir(json)"
   ]
  },
  {
   "cell_type": "code",
   "execution_count": 64,
   "metadata": {},
   "outputs": [],
   "source": [
    "def obtenerTweetsConTexto (ficheroTweets):\n",
    "    import json\n",
    "    fichero = open(ficheroTweets)\n",
    "    # Devuelve una lista de diccionarios solo con los elementos a analizar \n",
    "    # (aquellos que tengan key 'text')\n",
    "    tweetsDatos = fichero.readlines()\n",
    "    # Tras leer el fichero, tenemos una lista de textos con formato JSON que podemos\n",
    "    # descomponer:\n",
    "    tweetsAnalizar = []\n",
    "    for tweet in tweetsDatos:\n",
    "        try: jsonDict = json.loads(tweet)\n",
    "        except: jsonDict = None\n",
    "        if 'text' in jsonDict.keys():\n",
    "            tweetsAnalizar.append({'id':jsonDict['id'],'text':jsonDict['text'] })\n",
    "    return tweetsAnalizar\n",
    "\n",
    "def obtenerSentimientos(ficheroSentimientos):\n",
    "    fichero = open(ficheroSentimientos)"
   ]
  },
  {
   "cell_type": "code",
   "execution_count": 66,
   "metadata": {},
   "outputs": [
    {
     "name": "stdout",
     "output_type": "stream",
     "text": [
      "422\n"
     ]
    }
   ],
   "source": [
    "ficheroTweets = '/home/chema/MasterBI/practicas/01.Fundamentos/salida_tweets.txt'\n",
    "ficheroSentimientos = '/home/chema/MasterBI/practicas/01.Fundamentos/Sentimientos.txt'\n",
    "tweetsAnalizar = obtenerTweetsConTexto (ficheroTweets)\n",
    "print(len(tweetsAnalizar))\n",
    "# pythonDatos['id']\n",
    "# pythonDatos['text']"
   ]
  },
  {
   "cell_type": "code",
   "execution_count": null,
   "metadata": {
    "collapsed": true
   },
   "outputs": [],
   "source": []
  }
 ],
 "metadata": {
  "kernelspec": {
   "display_name": "Python 3",
   "language": "python",
   "name": "python3"
  },
  "language_info": {
   "codemirror_mode": {
    "name": "ipython",
    "version": 3
   },
   "file_extension": ".py",
   "mimetype": "text/x-python",
   "name": "python",
   "nbconvert_exporter": "python",
   "pygments_lexer": "ipython3",
   "version": "3.6.3"
  }
 },
 "nbformat": 4,
 "nbformat_minor": 2
}
