{
 "cells": [
  {
   "cell_type": "code",
   "execution_count": null,
   "metadata": {},
   "outputs": [
    {
     "name": "stdout",
     "output_type": "stream",
     "text": [
      "Inserta ciudad: Madrid\n",
      "Recuperando url:  http://maps.googleapis.com/maps/api/geocode/json?sensor=false&address=Madrid\n",
      "Recuperados  271  caracteres\n",
      "Fallo en la recuperacion...\n",
      "b'{\\n   \"error_message\" : \"You have exceeded your daily request quota for this API. We recommend registering for a key at the Google Developers Console: https://console.developers.google.com/apis/credentials?project=_\",\\n   \"results\" : [],\\n   \"status\" : \"OVER_QUERY_LIMIT\"\\n}\\n'\n"
     ]
    }
   ],
   "source": [
    "import urllib\n",
    "import json\n",
    "serviceurl = \"http://maps.googleapis.com/maps/api/geocode/json?\"\n",
    "while True:\n",
    "    address = input(\"Inserta ciudad: \")\n",
    "    if len(address) < 1: break\n",
    "    url = serviceurl + urllib.parse.urlencode({'sensor':'false', 'address':address})\n",
    "    print('Recuperando url: ', url)\n",
    "    uh = urllib.request.urlopen(url)\n",
    "    data = uh.read()\n",
    "    print('Recuperados ', len(data), ' caracteres')\n",
    "    try: js = json.loads(data)\n",
    "    except: js = None\n",
    "    if \"status\" not in js or js['status'] != 'OK':\n",
    "        print('Fallo en la recuperacion...')\n",
    "        print(data)\n",
    "        continue\n",
    "    print(json.dumps(js, indent=4))\n",
    "    lat = js['results'][0]['geometry']['location']['lat']\n",
    "    lng = js['results'][0]['geometry']['location']['lng']\n",
    "    print('lat: ', lat, ', lng: ', lng)\n",
    "    location = js['results'][0]['formatted_address']\n",
    "    print(location)"
   ]
  }
 ],
 "metadata": {
  "kernelspec": {
   "display_name": "Python 3",
   "language": "python",
   "name": "python3"
  },
  "language_info": {
   "codemirror_mode": {
    "name": "ipython",
    "version": 3
   },
   "file_extension": ".py",
   "mimetype": "text/x-python",
   "name": "python",
   "nbconvert_exporter": "python",
   "pygments_lexer": "ipython3",
   "version": "3.6.3"
  }
 },
 "nbformat": 4,
 "nbformat_minor": 2
}
