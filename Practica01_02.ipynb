{
 "cells": [
  {
   "cell_type": "code",
   "execution_count": 66,
   "metadata": {},
   "outputs": [
    {
     "name": "stdout",
     "output_type": "stream",
     "text": [
      "Introduzca una frase a codificar: vamos a probar\n",
      "Introduzca el numero de letras a desplazar: 2\n",
      "Introduzca el numero de palabras a desplazar: 1\n",
      "xcñqu c rtqdct -> rtqdct xcñqu c\n"
     ]
    }
   ],
   "source": [
    "def codifica(caracter,desplazamiento):\n",
    "    # Para cada caracter pasado como parametro, lo devuelve codificado 'desplazamiento' hacia la derecha\n",
    "    alfabeto=\"abcdefghijklmnñopqrstuvwxyz\"\n",
    "    if caracter in alfabeto:\n",
    "        indice = alfabeto.index(caracter)\n",
    "        return alfabeto[(indice+desplazamiento)%len(alfabeto)]\n",
    "    else:\n",
    "        return caracter\n",
    "\n",
    "def codifica_texto(texto,desplazamiento):\n",
    "    # Codifica el texto pasado como parametro, cambiando el caracter con un desplazamiento dado\n",
    "    texto_final = \"\"\n",
    "    for char in texto:\n",
    "        # print(char)\n",
    "        texto_final = texto_final + codifica(char,desplazamiento)\n",
    "    return texto_final\n",
    "\n",
    "def reordenar_palabras(palabras,desplazamiento):\n",
    "    lista_palabras = palabras.split()\n",
    "    texto_final = [] + lista_palabras\n",
    "    for i in range(len(lista_palabras)):\n",
    "        # print(\"La palabra a reordenar es:\" + lista_palabras[i] + \" en posicion i: \" + str(i))\n",
    "        # print(str(i) + \" - \" + str((i+desplazamiento)%len(lista_palabras)))\n",
    "        texto_final[(i+desplazamiento)%len(lista_palabras)] = lista_palabras[i]\n",
    "    delimitador = \" \"\n",
    "    return delimitador.join(texto_final)\n",
    "  \n",
    "texto = input (\"Introduzca una frase a codificar: \" )\n",
    "despl_letras = input(\"Introduzca el numero de letras a desplazar: \")\n",
    "despl_palabras = input(\"Introduzca el numero de palabras a desplazar: \")\n",
    "nuevo_texto = codifica_texto(texto,int(despl_letras))\n",
    "print(nuevo_texto + \" -> \" + reordenar_palabras(nuevo_texto,int(despl_palabras))) "
   ]
  },
  {
   "cell_type": "code",
   "execution_count": null,
   "metadata": {
    "collapsed": true
   },
   "outputs": [],
   "source": []
  }
 ],
 "metadata": {
  "kernelspec": {
   "display_name": "Python 3",
   "language": "python",
   "name": "python3"
  },
  "language_info": {
   "codemirror_mode": {
    "name": "ipython",
    "version": 3
   },
   "file_extension": ".py",
   "mimetype": "text/x-python",
   "name": "python",
   "nbconvert_exporter": "python",
   "pygments_lexer": "ipython3",
   "version": "3.6.3"
  }
 },
 "nbformat": 4,
 "nbformat_minor": 2
}
